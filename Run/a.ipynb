{
 "cells": [
  {
   "cell_type": "code",
   "execution_count": 32,
   "metadata": {},
   "outputs": [
    {
     "name": "stdout",
     "output_type": "stream",
     "text": [
      ",\n",
      "  \"-1\": [\n",
      "   [],\n",
      "   [],\n",
      "   [\n",
      "    \"agentWelcomeToDungeon\",\n",
      "    \"agentWTTD_v1\",\n",
      "   ]\n",
      "  ]\n"
     ]
    }
   ],
   "source": [
    "import os\n",
    "game_name = 'WelcomeToTheDungeon_v1'\n",
    "start = ',\\n  \"-1\": [\\n   [],\\n   [],\\n   ['\n",
    "print(start)\n",
    "for i in os.listdir(f'A:\\ENV\\Agent\\Ifelse\\{game_name}'):\n",
    "    print(f'    \"{i[:-3]}\"', end=',\\n')\n",
    "end = '   ]\\n  ]'\n",
    "print(end)"
   ]
  },
  {
   "cell_type": "code",
   "execution_count": 33,
   "metadata": {},
   "outputs": [
    {
     "name": "stdout",
     "output_type": "stream",
     "text": [
      "Splendor_v2 ------------- ['1', '-1']\n",
      "Splendor_v3 ------------- ['1', '-1']\n",
      "TLMN ------------- ['1', '-1']\n",
      "MachiKoro ------------- ['1', '-1']\n",
      "Catan ------------- ['1', '-1']\n",
      "SushiGo ------------- ['1', '-1']\n",
      "Splendor ------------- ['1', '-1']\n",
      "StoneAge ------------- ['1', '-1']\n",
      "Century ------------- ['1', '-1']\n",
      "Sheriff ------------- ['1', '-1']\n",
      "Durak ------------- ['1']\n",
      "Imploding_Kitten ------------- ['1']\n",
      "Exploding_Kitten ------------- ['1']\n",
      "Phom ------------- ['1']\n",
      "CatanNoExchange ------------- ['1', '-1']\n",
      "Poker ------------- ['1']\n",
      "TicketToRide ------------- ['1']\n",
      "GoFish ------------- ['1', '-1']\n",
      "WelcomeToTheDungeon_v1 ------------- ['1', '-1']\n",
      "WelcomeToTheDungeon_v2 ------------- ['1', '-1']\n",
      "Fantan ------------- ['1', '-1']\n"
     ]
    }
   ],
   "source": [
    "import json\n",
    "a = json.load(open('A:\\ENV\\Log\\level_game.json'))\n",
    "for i in a:\n",
    "    print(i, '-------------', list(a[i].keys())[2:])"
   ]
  }
 ],
 "metadata": {
  "kernelspec": {
   "display_name": ".venv",
   "language": "python",
   "name": "python3"
  },
  "language_info": {
   "codemirror_mode": {
    "name": "ipython",
    "version": 3
   },
   "file_extension": ".py",
   "mimetype": "text/x-python",
   "name": "python",
   "nbconvert_exporter": "python",
   "pygments_lexer": "ipython3",
   "version": "3.10.0"
  },
  "orig_nbformat": 4
 },
 "nbformat": 4,
 "nbformat_minor": 2
}
