{
 "cells": [
  {
   "attachments": {},
   "cell_type": "markdown",
   "metadata": {},
   "source": [
    "## Viết nhanh level -1"
   ]
  },
  {
   "cell_type": "code",
   "execution_count": null,
   "metadata": {},
   "outputs": [],
   "source": [
    "import os\n",
    "game_name = 'WelcomeToTheDungeon_v1'\n",
    "start = ',\\n  \"-1\": [\\n   [],\\n   [],\\n   ['\n",
    "print(start)\n",
    "for i in os.listdir(f'A:\\ENV\\Agent\\Ifelse\\{game_name}'):\n",
    "    print(f'    \"{i[:-3]}\"', end=',\\n')\n",
    "end = '   ]\\n  ]'\n",
    "print(end)"
   ]
  },
  {
   "cell_type": "code",
   "execution_count": null,
   "metadata": {},
   "outputs": [],
   "source": [
    "import json\n",
    "a = json.load(open('A:\\ENV\\Log\\level_game.json'))\n",
    "for i in a:\n",
    "    print(i, '-------------', list(a[i].keys())[2:])"
   ]
  },
  {
   "attachments": {},
   "cell_type": "markdown",
   "metadata": {},
   "source": [
    "## Kiểm tra hiệu suất của mô hình"
   ]
  },
  {
   "cell_type": "code",
   "execution_count": null,
   "metadata": {},
   "outputs": [],
   "source": [
    "## Kiểm tra hiện suất của hệ thống\n",
    "# !git clone https://github.com/ngoxuanphong/ENV.git\n",
    "%cd A:/ENV\n",
    "import importlib.util\n",
    "import warnings \n",
    "warnings.filterwarnings('ignore')\n",
    "from numba.core.errors import NumbaDeprecationWarning, NumbaPendingDeprecationWarning,NumbaExperimentalFeatureWarning, NumbaWarning\n",
    "warnings.simplefilter('ignore', category=NumbaDeprecationWarning)\n",
    "warnings.simplefilter('ignore', category=NumbaPendingDeprecationWarning)\n",
    "warnings.simplefilter('ignore', category=NumbaExperimentalFeatureWarning)\n",
    "warnings.simplefilter('ignore', category=NumbaWarning)\n",
    "\n",
    "from numba import njit\n",
    "from numba.typed import List\n",
    "import numba\n",
    "import numpy as np\n",
    "from setup import make\n",
    "game_name = 'MachiKoro'\n",
    "env = make(game_name)\n",
    "getActionSize = env.getActionSize\n",
    "getStateSize = env.getStateSize\n",
    "getAgentSize = env.getAgentSize\n",
    "\n",
    "getValidActions = env.getValidActions\n",
    "getReward = env.getReward\n",
    "numba_main_2 = env.numba_main_2"
   ]
  },
  {
   "cell_type": "code",
   "execution_count": null,
   "metadata": {},
   "outputs": [],
   "source": [
    "from time import time\n",
    "def test_game(game_name, dict_test = {}):\n",
    "    env = make(game_name)\n",
    "    getActionSize = env.getActionSize\n",
    "    getValidActions = env.getValidActions\n",
    "    getReward = env.getReward\n",
    "    numba_main_2 = env.numba_main_2\n",
    "\n",
    "    # @njit()\n",
    "    def Test(state, perData):\n",
    "        validActions = getValidActions(state)\n",
    "        arr_action = np.where(validActions==1)[0]\n",
    "        idx = np.random.randint(0, arr_action.shape[0])\n",
    "        return arr_action[idx], perData\n",
    "    \n",
    "    per_test = [0]\n",
    "    a = time()\n",
    "    win1, per_test = numba_main_2(Test, 10000, per_test, 0)\n",
    "    b = time()\n",
    "    win2, per_test = numba_main_2(Test, 10000, per_test, 1)\n",
    "    c = time()\n",
    "    print(f'Game name: {game_name} | Win rate: ')\n",
    "    print(f'        Level 0: {win1}/10000 in {int(b-a)} seconds')\n",
    "    print(f'        Level 1: {win2}/10000 in {int(c-b)} seconds')\n",
    "    try:\n",
    "        win3, per_test = numba_main_2(Test, 10000, per_test, -1)\n",
    "        d = time()\n",
    "        time_lv_if = int(d-c)\n",
    "    except:\n",
    "        win3 = False\n",
    "        time_lv_if = False\n",
    "    if not win3:\n",
    "        print(f'        Level -1: Chưa có level này')\n",
    "    else:\n",
    "        print(f'        Level -1: {win3}/10000 in {int(d-c)} seconds')\n",
    "    dict_test[game_name] = {'Win rate': [win1, win2, win3], \n",
    "                            'Time': [int(b-a), int(c-b), time_lv_if]}\n",
    "    return dict_test\n",
    "\n",
    "test_game('Fantan')"
   ]
  },
  {
   "cell_type": "code",
   "execution_count": null,
   "metadata": {},
   "outputs": [],
   "source": [
    "import os\n",
    "list_game = os.listdir('Base')\n",
    "dict_test = {}\n",
    "for game_name in ['Catan', 'CatanNoExchange', 'Century', 'Durak', 'Exploding_Kitten', 'Fantan', 'GoFish', 'Imploding_Kitten', 'MachiKoro', 'Phom', 'Poker', 'Sheriff', 'Splendor', 'Splendor_v2', 'Splendor_v3', 'StoneAge', 'SushiGo', 'TicketToRide', 'TLMN', 'WelcomeToTheDungeon_v1', 'WelcomeToTheDungeon_v2']:\n",
    "    dict_test = test_game(game_name, dict_test)\n",
    "import pandas as pd\n",
    "df = pd.DataFrame(dict_test).T\n",
    "df.to_csv('A:/ENV/Log/time_win.csv')"
   ]
  },
  {
   "attachments": {},
   "cell_type": "markdown",
   "metadata": {},
   "source": [
    "## Test lại agent level 2"
   ]
  },
  {
   "cell_type": "code",
   "execution_count": null,
   "metadata": {},
   "outputs": [],
   "source": [
    "# Test lại agent lv2\n",
    "\n",
    "def test_game(game_name):\n",
    "    env = make(game_name)\n",
    "    getActionSize = env.getActionSize\n",
    "    getValidActions = env.getValidActions\n",
    "    getReward = env.getReward\n",
    "    numba_main_2 = env.numba_main_2\n",
    "\n",
    "    @njit\n",
    "    def Test(state,per):    \n",
    "        actions = getValidActions(state)\n",
    "        if per[-1][0][0][0][0] == 2:\n",
    "            depth_tree = int(per[14][0][0][0][0])\n",
    "            actions = getValidActions(state)\n",
    "            output = per[-4][0][0][depth_tree] * actions + actions\n",
    "            action = np.argmax(output)\n",
    "        else:\n",
    "            weight = per[-11][0][0][0]\n",
    "            output = actions*weight + actions\n",
    "            c = np.where(output == np.max(output))[0]\n",
    "            action = np.random.choice(c)\n",
    "            win = getReward(state)\n",
    "\n",
    "            per[-11][0][0] += per[-9][0][0][action]\n",
    "            if win != -1:\n",
    "                per[-11][0][0] = np.zeros((1, getActionSize()))\n",
    "        return action,per\n",
    "\n",
    "    def convert_to_save(per):\n",
    "        lst = []\n",
    "        for i in range(len(per)):\n",
    "            if len(per[i]) == 0:\n",
    "                lst.append(List([np.zeros((1,1,1))]))\n",
    "            else:\n",
    "                lst.append(per[i])\n",
    "        return lst\n",
    "\n",
    "    def convert_to_test(lst):\n",
    "        per = []\n",
    "        for i in range(len(lst)):\n",
    "            per.append(List(lst[i]))\n",
    "        return per\n",
    "    \n",
    "    try:\n",
    "        per_test = convert_to_test(np.load(f'A:\\Trash\\Data\\{game_name}.npy', allow_pickle=True))\n",
    "        win1, per_test = numba_main_2(Test, 10000, per_test, 1)\n",
    "        win2, per_test = numba_main_2(Test, 10000, per_test, -1)\n",
    "        print(f'Game name: {game_name} | Win rate: \\n      Level 1: {win1}/10000 | Level -1: {win2}/10000')\n",
    "    except:\n",
    "        print(f'Game name: {game_name} | Game này chưa có level if else')\n",
    "\n",
    "test_game('SushiGo')\n",
    "for game_name in ['Splendor', 'TLMN', 'Catan']:\n",
    "    test_game(game_name)\n",
    "import os\n",
    "list_game = os.listdir('A:\\Trash\\Data')\n",
    "for game_name in list_game:\n",
    "    test_game(game_name[:-4])"
   ]
  },
  {
   "attachments": {},
   "cell_type": "markdown",
   "metadata": {},
   "source": [
    "# Test lại agent if else"
   ]
  },
  {
   "cell_type": "code",
   "execution_count": 2,
   "metadata": {},
   "outputs": [
    {
     "name": "stdout",
     "output_type": "stream",
     "text": [
      "A:\\ENV\n"
     ]
    }
   ],
   "source": [
    "## Kiểm tra hiện suất của hệ thống\n",
    "# !git clone https://github.com/ngoxuanphong/ENV.git\n",
    "%cd A:/ENV\n",
    "import importlib.util\n",
    "import warnings \n",
    "warnings.filterwarnings('ignore')\n",
    "from numba.core.errors import NumbaDeprecationWarning, NumbaPendingDeprecationWarning,NumbaExperimentalFeatureWarning, NumbaWarning\n",
    "warnings.simplefilter('ignore', category=NumbaDeprecationWarning)\n",
    "warnings.simplefilter('ignore', category=NumbaPendingDeprecationWarning)\n",
    "warnings.simplefilter('ignore', category=NumbaExperimentalFeatureWarning)\n",
    "warnings.simplefilter('ignore', category=NumbaWarning)\n",
    "\n",
    "from numba import njit\n",
    "from numba.typed import List\n",
    "import numba, os, sys\n",
    "import numpy as np\n",
    "from setup import make\n",
    "game_name = 'MachiKoro'\n",
    "env = make(game_name)\n",
    "getActionSize = env.getActionSize\n",
    "getStateSize = env.getStateSize\n",
    "getAgentSize = env.getAgentSize\n",
    "\n",
    "getValidActions = env.getValidActions\n",
    "getReward = env.getReward\n",
    "numba_main_2 = env.numba_main_2"
   ]
  },
  {
   "cell_type": "code",
   "execution_count": 7,
   "metadata": {},
   "outputs": [],
   "source": [
    "def run_game(game_name):\n",
    "    path  = f'A:\\ENV\\Agent\\Ifelse\\{game_name}'\n",
    "    env = make(game_name)\n",
    "    def load_module_player(player, game_name = None):\n",
    "        spec = importlib.util.spec_from_file_location('Agent_player', f\"Agent/ifelse/{game_name}/{player}.py\")\n",
    "        module = importlib.util.module_from_spec(spec)\n",
    "        sys.modules[spec.name] = module\n",
    "        spec.loader.exec_module(module)\n",
    "        return module\n",
    "\n",
    "    for i in os.listdir(path):\n",
    "        if '.py' in i:\n",
    "            path_new = path + '/' + i\n",
    "            # print(path_new)\n",
    "            agent = load_module_player(i[:-3], game_name = game_name)\n",
    "            win, per = env.numba_main_2(agent.Test, 10000, agent.DataAgent(), 1)\n",
    "            print(f'game name: {game_name}, Agent: {i[:-3]} | Win rate: {win}/1')\n",
    "\n",
    "# for game_name in ['Exploding_Kitten', 'Fantan', 'GoFish', 'WelcomeToTheDungeon_v1', 'WelcomeToTheDungeon_v2', 'CatanNoExchange', ]:\n",
    "\n",
    "for game_name in ['TicketToRide']:\n",
    "    run_game(game_name) "
   ]
  },
  {
   "attachments": {},
   "cell_type": "markdown",
   "metadata": {},
   "source": [
    "# Graphic\n"
   ]
  },
  {
   "cell_type": "code",
   "execution_count": 2,
   "metadata": {},
   "outputs": [
    {
     "name": "stdout",
     "output_type": "stream",
     "text": [
      "A:\\ENV\n"
     ]
    }
   ],
   "source": [
    "%cd A:/ENV"
   ]
  },
  {
   "cell_type": "code",
   "execution_count": null,
   "metadata": {},
   "outputs": [],
   "source": [
    "from setup import make\n",
    "from Base.MachiKoro._env import bot_lv0\n",
    "env = make(\"MachiKoro\")"
   ]
  },
  {
   "cell_type": "code",
   "execution_count": null,
   "metadata": {},
   "outputs": [],
   "source": [
    "env.render(Agent=\"human\", per_data=[0], level=0, max_temp_frame=100)"
   ]
  },
  {
   "cell_type": "code",
   "execution_count": 1,
   "metadata": {},
   "outputs": [
    {
     "name": "stdout",
     "output_type": "stream",
     "text": [
      "A:\\ENV\n",
      "check [7 2 1]\n",
      "check [7 1 0]\n",
      "check [8 5 0]\n",
      "check [3 5 7]\n",
      "check [5 0 5]\n",
      "check [5 0 2]\n",
      "check [1 5 0]\n",
      "check [0 0 0]\n",
      "check [0 0 2]\n",
      "check [-1 -1 -1]\n",
      "check [-1 -1 -1]\n",
      "check [-1 -1 -1]\n",
      "check [-1 -1 -1]\n",
      "check [-1 -1 -1]\n",
      "check [-1 -1 -1]\n",
      "check [-1 -1 -1]\n",
      "check [-1 -1 -1]\n",
      "check [-1 -1 -1]\n",
      "check [-1 -1 -1]\n"
     ]
    },
    {
     "ename": "Exception",
     "evalue": "toang",
     "output_type": "error",
     "traceback": [
      "\u001b[1;31m---------------------------------------------------------------------------\u001b[0m",
      "\u001b[1;31mException\u001b[0m                                 Traceback (most recent call last)",
      "Cell \u001b[1;32mIn[1], line 7\u001b[0m\n\u001b[0;32m      4\u001b[0m \u001b[39mfrom\u001b[39;00m \u001b[39mBase\u001b[39;00m\u001b[39m.\u001b[39;00m\u001b[39mTicketToRide\u001b[39;00m\u001b[39m.\u001b[39;00m\u001b[39m_env\u001b[39;00m \u001b[39mimport\u001b[39;00m bot_lv0\n\u001b[0;32m      5\u001b[0m env \u001b[39m=\u001b[39m make(\u001b[39m\"\u001b[39m\u001b[39mTicketToRide\u001b[39m\u001b[39m\"\u001b[39m)\n\u001b[1;32m----> 7\u001b[0m env\u001b[39m.\u001b[39;49mnumba_main_2(bot_lv0, \u001b[39m10\u001b[39;49m, [\u001b[39m0\u001b[39;49m], \u001b[39m1\u001b[39;49m)\n",
      "File \u001b[1;32mA:\\ENV\\Base\\TicketToRide\\_env.py:838\u001b[0m, in \u001b[0;36mnumba_main_2\u001b[1;34m(p0, num_game, per_player, level, *args)\u001b[0m\n\u001b[0;32m    835\u001b[0m load_agent(level, \u001b[39m*\u001b[39margs)\n\u001b[0;32m    837\u001b[0m \u001b[39mif\u001b[39;00m check_njit:\n\u001b[1;32m--> 838\u001b[0m     \u001b[39mreturn\u001b[39;00m n_games_numba(p0, num_game, per_player, list_other,\n\u001b[0;32m    839\u001b[0m                             _list_per_level_[\u001b[39m0\u001b[39;49m], _list_per_level_[\u001b[39m1\u001b[39;49m], _list_per_level_[\u001b[39m2\u001b[39;49m], _list_per_level_[\u001b[39m3\u001b[39;49m],\n\u001b[0;32m    840\u001b[0m                             _list_bot_level_[\u001b[39m0\u001b[39;49m], _list_bot_level_[\u001b[39m1\u001b[39;49m], _list_bot_level_[\u001b[39m2\u001b[39;49m], _list_bot_level_[\u001b[39m3\u001b[39;49m])\n\u001b[0;32m    841\u001b[0m \u001b[39melse\u001b[39;00m:\n\u001b[0;32m    842\u001b[0m     \u001b[39mreturn\u001b[39;00m n_games_normal(p0, num_game, per_player, list_other,\n\u001b[0;32m    843\u001b[0m                             _list_per_level_[\u001b[39m0\u001b[39m], _list_per_level_[\u001b[39m1\u001b[39m], _list_per_level_[\u001b[39m2\u001b[39m], _list_per_level_[\u001b[39m3\u001b[39m],\n\u001b[0;32m    844\u001b[0m                             _list_bot_level_[\u001b[39m0\u001b[39m], _list_bot_level_[\u001b[39m1\u001b[39m], _list_bot_level_[\u001b[39m2\u001b[39m], _list_bot_level_[\u001b[39m3\u001b[39m])\n",
      "File \u001b[1;32mA:\\ENV\\Base\\TicketToRide\\_env.py:661\u001b[0m, in \u001b[0;36mone_game_numba\u001b[1;34m()\u001b[0m\n\u001b[0;32m    659\u001b[0m     count_check \u001b[39m+\u001b[39m\u001b[39m=\u001b[39m \u001b[39m1\u001b[39m\n\u001b[0;32m    660\u001b[0m     \u001b[39mif\u001b[39;00m count_check \u001b[39m==\u001b[39m \u001b[39m50\u001b[39m:\n\u001b[1;32m--> 661\u001b[0m         \u001b[39mraise\u001b[39;00m \u001b[39mException\u001b[39;00m(\u001b[39m'\u001b[39m\u001b[39mtoang\u001b[39m\u001b[39m'\u001b[39m)\n\u001b[0;32m    662\u001b[0m env_state \u001b[39m=\u001b[39m stepEnv(env_state, action)\n\u001b[0;32m    663\u001b[0m count_turn \u001b[39m+\u001b[39m\u001b[39m=\u001b[39m \u001b[39m1\u001b[39m\n",
      "\u001b[1;31mException\u001b[0m: toang"
     ]
    }
   ],
   "source": [
    "%cd A:/ENV\n",
    "\n",
    "from setup import make\n",
    "from Base.TicketToRide._env import bot_lv0\n",
    "env = make(\"TicketToRide\")\n",
    "\n",
    "env.numba_main_2(bot_lv0, 10, [0], 1)"
   ]
  },
  {
   "cell_type": "code",
   "execution_count": null,
   "metadata": {},
   "outputs": [],
   "source": [
    "env.render(Agent=bot_lv0, per_data=[0], level=0, max_temp_frame=100)"
   ]
  },
  {
   "cell_type": "code",
   "execution_count": null,
   "metadata": {},
   "outputs": [],
   "source": [
    "import time\n",
    "for i in range(10):\n",
    "    a = time.time()\n",
    "    env.render(Agent=bot_lv0, per_data=[0], level=1, max_temp_frame=100)\n",
    "    b = time.time()\n",
    "    print(int(b-a), i)\n",
    "    clear_output(wait=True)"
   ]
  },
  {
   "cell_type": "code",
   "execution_count": 5,
   "metadata": {},
   "outputs": [
    {
     "data": {
      "text/plain": [
       "array([], dtype=float64)"
      ]
     },
     "execution_count": 5,
     "metadata": {},
     "output_type": "execute_result"
    }
   ],
   "source": [
    "import numpy as np\n",
    "a = np.zeros(0)\n",
    "a"
   ]
  },
  {
   "cell_type": "code",
   "execution_count": null,
   "metadata": {},
   "outputs": [],
   "source": []
  }
 ],
 "metadata": {
  "kernelspec": {
   "display_name": ".venv",
   "language": "python",
   "name": "python3"
  },
  "language_info": {
   "codemirror_mode": {
    "name": "ipython",
    "version": 3
   },
   "file_extension": ".py",
   "mimetype": "text/x-python",
   "name": "python",
   "nbconvert_exporter": "python",
   "pygments_lexer": "ipython3",
   "version": "3.10.0"
  },
  "orig_nbformat": 4
 },
 "nbformat": 4,
 "nbformat_minor": 2
}
