{
 "cells": [
  {
   "attachments": {},
   "cell_type": "markdown",
   "metadata": {},
   "source": [
    "## Viết nhanh level -1"
   ]
  },
  {
   "cell_type": "code",
   "execution_count": 32,
   "metadata": {},
   "outputs": [
    {
     "name": "stdout",
     "output_type": "stream",
     "text": [
      ",\n",
      "  \"-1\": [\n",
      "   [],\n",
      "   [],\n",
      "   [\n",
      "    \"agentWelcomeToDungeon\",\n",
      "    \"agentWTTD_v1\",\n",
      "   ]\n",
      "  ]\n"
     ]
    }
   ],
   "source": [
    "import os\n",
    "game_name = 'WelcomeToTheDungeon_v1'\n",
    "start = ',\\n  \"-1\": [\\n   [],\\n   [],\\n   ['\n",
    "print(start)\n",
    "for i in os.listdir(f'A:\\ENV\\Agent\\Ifelse\\{game_name}'):\n",
    "    print(f'    \"{i[:-3]}\"', end=',\\n')\n",
    "end = '   ]\\n  ]'\n",
    "print(end)"
   ]
  },
  {
   "cell_type": "code",
   "execution_count": null,
   "metadata": {},
   "outputs": [],
   "source": [
    "import json\n",
    "a = json.load(open('A:\\ENV\\Log\\level_game.json'))\n",
    "for i in a:\n",
    "    print(i, '-------------', list(a[i].keys())[2:])"
   ]
  },
  {
   "attachments": {},
   "cell_type": "markdown",
   "metadata": {},
   "source": [
    "## Kiểm tra hiệu suất của mô hình"
   ]
  },
  {
   "cell_type": "code",
   "execution_count": 1,
   "metadata": {},
   "outputs": [
    {
     "name": "stdout",
     "output_type": "stream",
     "text": [
      "A:\\ENV\n"
     ]
    }
   ],
   "source": [
    "## Kiểm tra hiện suất của hệ thống\n",
    "# !git clone https://github.com/ngoxuanphong/ENV.git\n",
    "%cd A:/ENV\n",
    "import importlib.util\n",
    "import warnings \n",
    "warnings.filterwarnings('ignore')\n",
    "from numba.core.errors import NumbaDeprecationWarning, NumbaPendingDeprecationWarning,NumbaExperimentalFeatureWarning, NumbaWarning\n",
    "warnings.simplefilter('ignore', category=NumbaDeprecationWarning)\n",
    "warnings.simplefilter('ignore', category=NumbaPendingDeprecationWarning)\n",
    "warnings.simplefilter('ignore', category=NumbaExperimentalFeatureWarning)\n",
    "warnings.simplefilter('ignore', category=NumbaWarning)\n",
    "\n",
    "from numba import njit\n",
    "from numba.typed import List\n",
    "import numba\n",
    "import numpy as np\n",
    "from setup import make\n",
    "game_name = 'MachiKoro'\n",
    "env = make(game_name)\n",
    "getActionSize = env.getActionSize\n",
    "getStateSize = env.getStateSize\n",
    "getAgentSize = env.getAgentSize\n",
    "\n",
    "getValidActions = env.getValidActions\n",
    "getReward = env.getReward\n",
    "numba_main_2 = env.numba_main_2"
   ]
  },
  {
   "cell_type": "code",
   "execution_count": 2,
   "metadata": {},
   "outputs": [
    {
     "name": "stdout",
     "output_type": "stream",
     "text": [
      "Game name: Fantan | Win rate: \n",
      "        Level 0: 2506/10000 in 32 seconds\n",
      "        Level 1: 97/10000 in 65 seconds\n",
      "        Level -1: Chưa có level này\n"
     ]
    },
    {
     "data": {
      "text/plain": [
       "{'Fantan': {'Win rate': [2506, 97, False], 'Time': [32, 65, False]}}"
      ]
     },
     "execution_count": 2,
     "metadata": {},
     "output_type": "execute_result"
    }
   ],
   "source": [
    "from time import time\n",
    "def test_game(game_name, dict_test = {}):\n",
    "    env = make(game_name)\n",
    "    getActionSize = env.getActionSize\n",
    "    getValidActions = env.getValidActions\n",
    "    getReward = env.getReward\n",
    "    numba_main_2 = env.numba_main_2\n",
    "\n",
    "    # @njit()\n",
    "    def Test(state, perData):\n",
    "        validActions = getValidActions(state)\n",
    "        arr_action = np.where(validActions==1)[0]\n",
    "        idx = np.random.randint(0, arr_action.shape[0])\n",
    "        return arr_action[idx], perData\n",
    "    \n",
    "    per_test = [0]\n",
    "    a = time()\n",
    "    win1, per_test = numba_main_2(Test, 10000, per_test, 0)\n",
    "    b = time()\n",
    "    win2, per_test = numba_main_2(Test, 10000, per_test, 1)\n",
    "    c = time()\n",
    "    print(f'Game name: {game_name} | Win rate: ')\n",
    "    print(f'        Level 0: {win1}/10000 in {int(b-a)} seconds')\n",
    "    print(f'        Level 1: {win2}/10000 in {int(c-b)} seconds')\n",
    "    try:\n",
    "        win3, per_test = numba_main_2(Test, 10000, per_test, -1)\n",
    "        d = time()\n",
    "        time_lv_if = int(d-c)\n",
    "    except:\n",
    "        win3 = False\n",
    "        time_lv_if = False\n",
    "    if not win3:\n",
    "        print(f'        Level -1: Chưa có level này')\n",
    "    else:\n",
    "        print(f'        Level -1: {win3}/10000 in {int(d-c)} seconds')\n",
    "    dict_test[game_name] = {'Win rate': [win1, win2, win3], \n",
    "                            'Time': [int(b-a), int(c-b), time_lv_if]}\n",
    "    return dict_test\n",
    "\n",
    "test_game('Fantan')"
   ]
  },
  {
   "cell_type": "code",
   "execution_count": 3,
   "metadata": {},
   "outputs": [
    {
     "name": "stdout",
     "output_type": "stream",
     "text": [
      "Game name: Catan | Win rate: \n",
      "        Level 0: 2535/10000 in 307 seconds\n",
      "        Level 1: 211/10000 in 224 seconds\n",
      "        Level -1: 13/10000 in 324 seconds\n",
      "Game name: CatanNoExchange | Win rate: \n",
      "        Level 0: 2464/10000 in 190 seconds\n",
      "        Level 1: 339/10000 in 673 seconds\n",
      "        Level -1: Chưa có level này\n",
      "Game name: Century | Win rate: \n",
      "        Level 0: 1932/10000 in 48 seconds\n",
      "        Level 1: 12/10000 in 51 seconds\n",
      "        Level -1: 1/10000 in 52 seconds\n",
      "Game name: Durak | Win rate: \n",
      "        Level 0: 2561/10000 in 15 seconds\n",
      "        Level 1: 447/10000 in 18 seconds\n",
      "        Level -1: Chưa có level này\n",
      "Game name: Exploding_Kitten | Win rate: \n",
      "        Level 0: 2002/10000 in 18 seconds\n",
      "        Level 1: 1631/10000 in 16 seconds\n",
      "        Level -1: Chưa có level này\n",
      "Game name: Fantan | Win rate: \n",
      "        Level 0: 2413/10000 in 27 seconds\n",
      "        Level 1: 117/10000 in 63 seconds\n",
      "        Level -1: Chưa có level này\n",
      "Game name: GoFish | Win rate: \n",
      "        Level 0: 2536/10000 in 10 seconds\n",
      "        Level 1: 2499/10000 in 12 seconds\n",
      "        Level -1: Chưa có level này\n",
      "Game name: Imploding_Kitten | Win rate: \n",
      "        Level 0: 1659/10000 in 37 seconds\n",
      "        Level 1: 1316/10000 in 39 seconds\n",
      "        Level -1: Chưa có level này\n",
      "Game name: MachiKoro | Win rate: \n",
      "        Level 0: 2542/10000 in 13 seconds\n",
      "        Level 1: 53/10000 in 14 seconds\n",
      "        Level -1: 7/10000 in 18 seconds\n",
      "Game name: Phom | Win rate: \n",
      "        Level 0: 2444/10000 in 31 seconds\n",
      "        Level 1: 500/10000 in 33 seconds\n",
      "        Level -1: Chưa có level này\n",
      "Game name: Poker | Win rate: \n",
      "        Level 0: 1109/10000 in 71 seconds\n",
      "        Level 1: 1155/10000 in 59 seconds\n",
      "        Level -1: Chưa có level này\n",
      "Game name: Sheriff | Win rate: \n",
      "        Level 0: 2510/10000 in 28 seconds\n",
      "        Level 1: 3/10000 in 30 seconds\n",
      "        Level -1: 362/10000 in 33 seconds\n",
      "Game name: Splendor | Win rate: \n",
      "        Level 0: 2449/10000 in 114 seconds\n",
      "        Level 1: 28/10000 in 154 seconds\n",
      "        Level -1: 1/10000 in 90 seconds\n",
      "Game name: Splendor_v2 | Win rate: \n",
      "        Level 0: 2621/10000 in 48 seconds\n",
      "        Level 1: 15/10000 in 51 seconds\n",
      "        Level -1: 1/10000 in 50 seconds\n",
      "Game name: Splendor_v3 | Win rate: \n",
      "        Level 0: 2615/10000 in 29 seconds\n",
      "        Level 1: 677/10000 in 26 seconds\n",
      "        Level -1: 29/10000 in 36 seconds\n",
      "Game name: StoneAge | Win rate: \n",
      "        Level 0: 2467/10000 in 92 seconds\n",
      "        Level 1: 36/10000 in 217 seconds\n",
      "        Level -1: Chưa có level này\n",
      "Game name: SushiGo | Win rate: \n",
      "        Level 0: 2010/10000 in 11 seconds\n",
      "        Level 1: 141/10000 in 14 seconds\n",
      "        Level -1: 154/10000 in 14 seconds\n",
      "Game name: TicketToRide | Win rate: \n",
      "        Level 0: 2041/10000 in 60 seconds\n",
      "        Level 1: 0/10000 in 913 seconds\n",
      "        Level -1: Chưa có level này\n",
      "Game name: TLMN | Win rate: \n",
      "        Level 0: 2456/10000 in 16 seconds\n",
      "        Level 1: 772/10000 in 17 seconds\n",
      "        Level -1: 262/10000 in 26 seconds\n",
      "Game name: WelcomeToTheDungeon_v1 | Win rate: \n",
      "        Level 0: 2530/10000 in 3 seconds\n",
      "        Level 1: 833/10000 in 12 seconds\n",
      "        Level -1: 796/10000 in 15 seconds\n",
      "Game name: WelcomeToTheDungeon_v2 | Win rate: \n",
      "        Level 0: 2481/10000 in 4 seconds\n",
      "        Level 1: 914/10000 in 15 seconds\n",
      "        Level -1: 464/10000 in 14 seconds\n"
     ]
    }
   ],
   "source": [
    "import os\n",
    "list_game = os.listdir('Base')\n",
    "dict_test = {}\n",
    "for game_name in ['Catan', 'CatanNoExchange', 'Century', 'Durak', 'Exploding_Kitten', 'Fantan', 'GoFish', 'Imploding_Kitten', 'MachiKoro', 'Phom', 'Poker', 'Sheriff', 'Splendor', 'Splendor_v2', 'Splendor_v3', 'StoneAge', 'SushiGo', 'TicketToRide', 'TLMN', 'WelcomeToTheDungeon_v1', 'WelcomeToTheDungeon_v2']:\n",
    "    dict_test = test_game(game_name, dict_test)\n",
    "import pandas as pd\n",
    "df = pd.DataFrame(dict_test).T\n",
    "df.to_csv('A:/ENV/Log/time_win.csv')"
   ]
  },
  {
   "attachments": {},
   "cell_type": "markdown",
   "metadata": {},
   "source": [
    "## Test lại agent level 2"
   ]
  },
  {
   "cell_type": "code",
   "execution_count": null,
   "metadata": {},
   "outputs": [],
   "source": [
    "# Test lại agent lv2\n",
    "\n",
    "def test_game(game_name):\n",
    "    env = make(game_name)\n",
    "    getActionSize = env.getActionSize\n",
    "    getValidActions = env.getValidActions\n",
    "    getReward = env.getReward\n",
    "    numba_main_2 = env.numba_main_2\n",
    "\n",
    "    @njit\n",
    "    def Test(state,per):    \n",
    "        actions = getValidActions(state)\n",
    "        if per[-1][0][0][0][0] == 2:\n",
    "            depth_tree = int(per[14][0][0][0][0])\n",
    "            actions = getValidActions(state)\n",
    "            output = per[-4][0][0][depth_tree] * actions + actions\n",
    "            action = np.argmax(output)\n",
    "        else:\n",
    "            weight = per[-11][0][0][0]\n",
    "            output = actions*weight + actions\n",
    "            c = np.where(output == np.max(output))[0]\n",
    "            action = np.random.choice(c)\n",
    "            win = getReward(state)\n",
    "\n",
    "            per[-11][0][0] += per[-9][0][0][action]\n",
    "            if win != -1:\n",
    "                per[-11][0][0] = np.zeros((1, getActionSize()))\n",
    "        return action,per\n",
    "\n",
    "    def convert_to_save(per):\n",
    "        lst = []\n",
    "        for i in range(len(per)):\n",
    "            if len(per[i]) == 0:\n",
    "                lst.append(List([np.zeros((1,1,1))]))\n",
    "            else:\n",
    "                lst.append(per[i])\n",
    "        return lst\n",
    "\n",
    "    def convert_to_test(lst):\n",
    "        per = []\n",
    "        for i in range(len(lst)):\n",
    "            per.append(List(lst[i]))\n",
    "        return per\n",
    "    \n",
    "    try:\n",
    "        per_test = convert_to_test(np.load(f'A:\\Trash\\Data\\{game_name}.npy', allow_pickle=True))\n",
    "        win1, per_test = numba_main_2(Test, 10000, per_test, 1)\n",
    "        win2, per_test = numba_main_2(Test, 10000, per_test, -1)\n",
    "        print(f'Game name: {game_name} | Win rate: \\n      Level 1: {win1}/10000 | Level -1: {win2}/10000')\n",
    "    except:\n",
    "        print(f'Game name: {game_name} | Game này chưa có level if else')\n",
    "\n",
    "test_game('SushiGo')\n",
    "for game_name in ['Splendor', 'TLMN', 'Catan']:\n",
    "    test_game(game_name)\n",
    "import os\n",
    "list_game = os.listdir('A:\\Trash\\Data')\n",
    "for game_name in list_game:\n",
    "    test_game(game_name[:-4])"
   ]
  }
 ],
 "metadata": {
  "kernelspec": {
   "display_name": ".venv",
   "language": "python",
   "name": "python3"
  },
  "language_info": {
   "codemirror_mode": {
    "name": "ipython",
    "version": 3
   },
   "file_extension": ".py",
   "mimetype": "text/x-python",
   "name": "python",
   "nbconvert_exporter": "python",
   "pygments_lexer": "ipython3",
   "version": "3.10.7"
  },
  "orig_nbformat": 4
 },
 "nbformat": 4,
 "nbformat_minor": 2
}
