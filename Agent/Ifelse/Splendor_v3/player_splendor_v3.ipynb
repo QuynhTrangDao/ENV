{
 "cells": [
  {
   "cell_type": "code",
   "execution_count": 1,
   "metadata": {},
   "outputs": [],
   "source": [
    "import sys\n",
    "sys.path.insert(0, '/VIS_3TH/')\n",
    "\n",
    "import numpy as np\n",
    "from numba import njit\n",
    "\n",
    "from setup import SHORT_PATH\n",
    "import importlib.util\n",
    "game_name = 'Splendor_v3'\n",
    "\n",
    "def add_game_to_syspath(game_name):\n",
    "    if len(sys.argv) >= 2:\n",
    "        sys.argv = [sys.argv[0]]\n",
    "    sys.argv.append(game_name)\n",
    "\n",
    "def setup_game(game_name):\n",
    "    spec = importlib.util.spec_from_file_location('env', f\"{SHORT_PATH}Base/{game_name}/env.py\")\n",
    "    module = importlib.util.module_from_spec(spec)\n",
    "    sys.modules[spec.name] = module \n",
    "    spec.loader.exec_module(module)\n",
    "    return module\n",
    "\n",
    "add_game_to_syspath(game_name)\n",
    "env = setup_game(game_name)\n",
    "\n",
    "getActionSize = env.getActionSize\n",
    "getStateSize = env.getStateSize\n",
    "getAgentSize = env.getAgentSize\n",
    "\n",
    "getValidActions = env.getValidActions\n",
    "getReward = env.getReward\n",
    "numba_main_2 = env.numba_main_2"
   ]
  },
  {
   "cell_type": "code",
   "execution_count": 2,
   "metadata": {},
   "outputs": [],
   "source": [
    "@njit()\n",
    "def valueOf(card, pGemTokens, pGoldTokens, pDevCards, adjust=0):\n",
    "    if np.sum(card) == 0:\n",
    "        return -1\n",
    "    cost = card[-5:]\n",
    "    score = card[0]\n",
    "    needs = cost - pDevCards - pGemTokens\n",
    "    needs[needs < 0] = 0\n",
    "    needs[needs > 0] = 1\n",
    "    if adjust == 1:\n",
    "        return 1/((score + 1)*(np.sum(needs) + 1))\n",
    "    return (score + 1)/(np.sum(needs) + 1)\n",
    "\n",
    "@njit()\n",
    "def player(state, per):\n",
    "    pGemTokens = state[6:11]\n",
    "    pGoldTokens = state[11]\n",
    "    pDevCards = state[12:17]\n",
    "\n",
    "    adjust = 0\n",
    "    if state[17] <= 8:\n",
    "        adjust = 1\n",
    "    \n",
    "    faceupCards = state[18:150]\n",
    "    facedownCards = state[175:208]\n",
    "    cards = np.append(faceupCards, facedownCards).reshape(15, -1)\n",
    "    valueOfCards = np.array([valueOf(card, pGemTokens, pGoldTokens, pDevCards, adjust) for card in cards])\n",
    "    mostValuableCards = (-valueOfCards).argsort()[:1]\n",
    "    action = mostValuableCards[np.random.randint(len(mostValuableCards))]\n",
    "    return action, per"
   ]
  },
  {
   "cell_type": "code",
   "execution_count": 3,
   "metadata": {},
   "outputs": [
    {
     "data": {
      "text/plain": [
       "63501"
      ]
     },
     "execution_count": 3,
     "metadata": {},
     "output_type": "execute_result"
    }
   ],
   "source": [
    "win, per = numba_main_2(player, 100000, np.array([]), 1)\n",
    "win"
   ]
  }
 ],
 "metadata": {
  "kernelspec": {
   "display_name": "Python 3",
   "language": "python",
   "name": "python3"
  },
  "language_info": {
   "codemirror_mode": {
    "name": "ipython",
    "version": 3
   },
   "file_extension": ".py",
   "mimetype": "text/x-python",
   "name": "python",
   "nbconvert_exporter": "python",
   "pygments_lexer": "ipython3",
   "version": "3.9.13"
  },
  "orig_nbformat": 4
 },
 "nbformat": 4,
 "nbformat_minor": 2
}
