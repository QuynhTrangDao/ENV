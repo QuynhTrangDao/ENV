{
 "cells": [
  {
   "cell_type": "code",
   "execution_count": 1,
   "metadata": {},
   "outputs": [],
   "source": [
    "import sys\n",
    "sys.path.insert(0, '/VIS_3TH/')\n",
    "\n",
    "import numpy as np\n",
    "from numba import njit\n",
    "\n",
    "from setup import SHORT_PATH\n",
    "import importlib.util\n",
    "game_name = 'MachiKoro'\n",
    "\n",
    "def add_game_to_syspath(game_name):\n",
    "    if len(sys.argv) >= 2:\n",
    "        sys.argv = [sys.argv[0]]\n",
    "    sys.argv.append(game_name)\n",
    "\n",
    "def setup_game(game_name):\n",
    "    spec = importlib.util.spec_from_file_location('env', f\"{SHORT_PATH}Base/{game_name}/env.py\")\n",
    "    module = importlib.util.module_from_spec(spec)\n",
    "    sys.modules[spec.name] = module \n",
    "    spec.loader.exec_module(module)\n",
    "    return module\n",
    "\n",
    "add_game_to_syspath(game_name)\n",
    "env = setup_game(game_name)\n",
    "\n",
    "getActionSize = env.getActionSize\n",
    "getStateSize = env.getStateSize\n",
    "getAgentSize = env.getAgentSize\n",
    "\n",
    "getValidActions = env.getValidActions\n",
    "getReward = env.getReward\n",
    "numba_main_2 = env.numba_main_2"
   ]
  },
  {
   "cell_type": "code",
   "execution_count": 2,
   "metadata": {},
   "outputs": [],
   "source": [
    "@njit()\n",
    "def player(state, per):\n",
    "    validActions = getValidActions(state)\n",
    "    validActions[52] = validActions[52]*state[18]*state[17]*state[16]\n",
    "    validActions[50] = validActions[50]*state[18]*state[16]\n",
    "    validActions = np.where(validActions == 1)[0]\n",
    "\n",
    "    if 1 in validActions: # Đổ xúc xắc\n",
    "        return 1, per\n",
    "    \n",
    "    if (0 in validActions) and (state[117] not in (2, 3, 4)):\n",
    "        return 0, per\n",
    "\n",
    "    if (np.sum(state[16:20]==2)) and (validActions[52] == 0) and (validActions[50] == 0):\n",
    "        if 53 in validActions:\n",
    "            return 53, per\n",
    "    \n",
    "    if np.sum(state[1:16]) >= 8:\n",
    "        for i in (51, 52, 50, 49):\n",
    "            if i in validActions:\n",
    "                return i, per\n",
    "    \n",
    "    for i in (35, 34, 36, 38, 39, 37):\n",
    "        if (i in validActions) and (state[i-33] <= 4):\n",
    "            return i, per\n",
    "        \n",
    "    if (state[39] + state[59] + state[79] >= 1):\n",
    "        for i in (43, 44, 42):\n",
    "            if (i in validActions) and (state[i-33]<=1):\n",
    "                return i, per\n",
    "        \n",
    "    if 53 in validActions:\n",
    "        return 53, per\n",
    "        \n",
    "    action = validActions[np.random.randint(len(validActions))]\n",
    "    return action, per"
   ]
  },
  {
   "cell_type": "code",
   "execution_count": 3,
   "metadata": {},
   "outputs": [
    {
     "name": "stdout",
     "output_type": "stream",
     "text": [
      "4175\n",
      "4178\n",
      "4156\n",
      "4189\n",
      "4128\n",
      "4125\n",
      "4249\n",
      "4163\n",
      "4212\n",
      "4247\n"
     ]
    }
   ],
   "source": [
    "for i in range(10):\n",
    "    win, per = numba_main_2(player, 10000, np.array([]), 1)\n",
    "    print(win)"
   ]
  }
 ],
 "metadata": {
  "kernelspec": {
   "display_name": "Python 3",
   "language": "python",
   "name": "python3"
  },
  "language_info": {
   "codemirror_mode": {
    "name": "ipython",
    "version": 3
   },
   "file_extension": ".py",
   "mimetype": "text/x-python",
   "name": "python",
   "nbconvert_exporter": "python",
   "pygments_lexer": "ipython3",
   "version": "3.9.13"
  },
  "orig_nbformat": 4
 },
 "nbformat": 4,
 "nbformat_minor": 2
}
