{
 "cells": [
  {
   "cell_type": "code",
   "execution_count": 1,
   "metadata": {},
   "outputs": [],
   "source": [
    "import sys\n",
    "sys.path.insert(0, '/VIS_3TH/')\n",
    "\n",
    "import numpy as np\n",
    "from numba import njit\n",
    "\n",
    "from setup import SHORT_PATH\n",
    "import importlib.util\n",
    "game_name = 'Splendor_v2'\n",
    "\n",
    "def add_game_to_syspath(game_name):\n",
    "    if len(sys.argv) >= 2:\n",
    "        sys.argv = [sys.argv[0]]\n",
    "    sys.argv.append(game_name)\n",
    "\n",
    "def setup_game(game_name):\n",
    "    spec = importlib.util.spec_from_file_location('env', f\"{SHORT_PATH}Base/{game_name}/env.py\")\n",
    "    module = importlib.util.module_from_spec(spec)\n",
    "    sys.modules[spec.name] = module \n",
    "    spec.loader.exec_module(module)\n",
    "    return module\n",
    "\n",
    "add_game_to_syspath(game_name)\n",
    "env = setup_game(game_name)\n",
    "\n",
    "getActionSize = env.getActionSize\n",
    "getStateSize = env.getStateSize\n",
    "getAgentSize = env.getAgentSize\n",
    "\n",
    "getValidActions = env.getValidActions\n",
    "getReward = env.getReward\n",
    "numba_main_2 = env.numba_main_2"
   ]
  },
  {
   "cell_type": "code",
   "execution_count": 2,
   "metadata": {},
   "outputs": [],
   "source": [
    "@njit()\n",
    "def player(state, per):\n",
    "    validActions = getValidActions(state)\n",
    "    validActions = np.where(validActions == 1)[0]\n",
    "\n",
    "    purchaseCardActions = validActions[(validActions>=1) & (validActions<13)]\n",
    "    if len(purchaseCardActions) > 0:\n",
    "        action = purchaseCardActions[0]\n",
    "        for purchaseCardAction in purchaseCardActions:\n",
    "            if state[18 + 11*(purchaseCardAction-1)] > state[18 + 11*(action-1)]:\n",
    "                action = purchaseCardAction\n",
    "        return action, per\n",
    "    \n",
    "    reverseFacedownCardActions = validActions[(validActions>=13) & (validActions<16)]\n",
    "    if len(reverseFacedownCardActions) > 0:\n",
    "        action = reverseFacedownCardActions[np.random.randint(len(reverseFacedownCardActions))]\n",
    "        return action, per\n",
    "\n",
    "    faceupCards = state[18:150].reshape(12,-1)\n",
    "    faceupCards_l0_l1 = faceupCards[:8]\n",
    "    faceupCards_l2 = faceupCards[8:]\n",
    "    totalCostFaceUpCards_l0_l1 = np.sum(faceupCards_l0_l1, axis=1)[-5:]\n",
    "    totalCostFaceUpCards_l2 = np.sum(faceupCards_l2, axis=1)[-5:]\n",
    "    if np.sum(totalCostFaceUpCards_l0_l1) > 0:\n",
    "        mostThreeTokens = (-totalCostFaceUpCards_l0_l1).argsort()[:3] + 31\n",
    "    else:\n",
    "        mostThreeTokens = (-totalCostFaceUpCards_l2).argsort()[:3] + 31\n",
    "    takeTokenActions = validActions[(validActions>=31) & (validActions<36)]\n",
    "    mostAvalableThreeTokens = np.intersect1d(mostThreeTokens, takeTokenActions)\n",
    "    takeTokenActions = np.concatenate((\n",
    "        takeTokenActions, \n",
    "        takeTokenActions,\n",
    "        takeTokenActions,\n",
    "        mostAvalableThreeTokens\n",
    "    ))\n",
    "    if len(takeTokenActions) > 0:\n",
    "        action = takeTokenActions[np.random.randint(len(takeTokenActions))]\n",
    "        return action, per \n",
    "        \n",
    "    action = validActions[np.random.randint(len(validActions))]\n",
    "    return action, per"
   ]
  },
  {
   "cell_type": "code",
   "execution_count": 3,
   "metadata": {},
   "outputs": [
    {
     "data": {
      "text/plain": [
       "64812"
      ]
     },
     "execution_count": 3,
     "metadata": {},
     "output_type": "execute_result"
    }
   ],
   "source": [
    "win, per = numba_main_2(player, 100000, np.array([]), 1)\n",
    "win"
   ]
  }
 ],
 "metadata": {
  "kernelspec": {
   "display_name": "Python 3",
   "language": "python",
   "name": "python3"
  },
  "language_info": {
   "codemirror_mode": {
    "name": "ipython",
    "version": 3
   },
   "file_extension": ".py",
   "mimetype": "text/x-python",
   "name": "python",
   "nbconvert_exporter": "python",
   "pygments_lexer": "ipython3",
   "version": "3.9.13"
  },
  "orig_nbformat": 4
 },
 "nbformat": 4,
 "nbformat_minor": 2
}
