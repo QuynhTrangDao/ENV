{
 "cells": [
  {
   "cell_type": "code",
   "execution_count": 1,
   "metadata": {},
   "outputs": [],
   "source": [
    "import sys\n",
    "sys.path.insert(0, '/VIS_3TH/')\n",
    "\n",
    "import numpy as np\n",
    "from numba import njit\n",
    "\n",
    "from setup import SHORT_PATH\n",
    "import importlib.util\n",
    "game_name = 'Splendor'\n",
    "\n",
    "def add_game_to_syspath(game_name):\n",
    "    if len(sys.argv) >= 2:\n",
    "        sys.argv = [sys.argv[0]]\n",
    "    sys.argv.append(game_name)\n",
    "\n",
    "def setup_game(game_name):\n",
    "    spec = importlib.util.spec_from_file_location('env', f\"{SHORT_PATH}Base/{game_name}/env.py\")\n",
    "    module = importlib.util.module_from_spec(spec)\n",
    "    sys.modules[spec.name] = module \n",
    "    spec.loader.exec_module(module)\n",
    "    return module\n",
    "\n",
    "add_game_to_syspath(game_name)\n",
    "env = setup_game(game_name)\n",
    "\n",
    "getActionSize = env.getActionSize\n",
    "getStateSize = env.getStateSize\n",
    "getAgentSize = env.getAgentSize\n",
    "\n",
    "getValidActions = env.getValidActions\n",
    "getReward = env.getReward\n",
    "numba_main_2 = env.numba_main_2"
   ]
  },
  {
   "cell_type": "code",
   "execution_count": 2,
   "metadata": {},
   "outputs": [],
   "source": [
    "from Base.Splendor.env import __NORMAL_CARD__\n",
    "\n",
    "@njit()\n",
    "def valueOf(cardId, pDevCards, pTokens):\n",
    "    infoCard = __NORMAL_CARD__[cardId - 5]\n",
    "    score = infoCard[0]\n",
    "    cost = infoCard[6:]\n",
    "    needs = cost - pDevCards - pTokens\n",
    "    needs[needs<0] = 0\n",
    "    needs[needs>0] = 1\n",
    "    return (score + 1)/(np.sum(needs) + 1)\n",
    "\n",
    "@njit()\n",
    "def player(state, per):\n",
    "    validActions = getValidActions(state)\n",
    "    validActions = np.where(validActions == 1)[0]\n",
    "\n",
    "    pInfo = state[201:213]\n",
    "    pTokens = pInfo[1:6]\n",
    "    pDevCards = pInfo[6:11]\n",
    "\n",
    "    purchaseCardActions = validActions[(validActions>=5) & (validActions<95)]\n",
    "    if len(purchaseCardActions) > 0:\n",
    "        valueOfCards = np.zeros_like(purchaseCardActions) - 1\n",
    "        for i in range(len(purchaseCardActions)):\n",
    "            valueOfCards[i] = valueOf(purchaseCardActions[i], pDevCards, pTokens)\n",
    "        action = purchaseCardActions[0]\n",
    "        for i in range(len(purchaseCardActions)):\n",
    "            if valueOfCards[i] > valueOf(action, pDevCards, pTokens):\n",
    "                action = purchaseCardActions[i]\n",
    "        return action, per \n",
    "\n",
    "    takeTokenActions = validActions[(validActions>=0) & (validActions<5)]\n",
    "    if len(takeTokenActions) > 0:\n",
    "        action = takeTokenActions[np.random.randint(len(takeTokenActions))]\n",
    "        return action, per \n",
    "    \n",
    "    action = validActions[np.random.randint(len(validActions))]\n",
    "    return action, per"
   ]
  },
  {
   "cell_type": "code",
   "execution_count": 3,
   "metadata": {},
   "outputs": [
    {
     "data": {
      "text/plain": [
       "59291"
      ]
     },
     "execution_count": 3,
     "metadata": {},
     "output_type": "execute_result"
    }
   ],
   "source": [
    "win, per = numba_main_2(player, 100000, np.array([]), 1)\n",
    "win"
   ]
  }
 ],
 "metadata": {
  "kernelspec": {
   "display_name": "Python 3",
   "language": "python",
   "name": "python3"
  },
  "language_info": {
   "codemirror_mode": {
    "name": "ipython",
    "version": 3
   },
   "file_extension": ".py",
   "mimetype": "text/x-python",
   "name": "python",
   "nbconvert_exporter": "python",
   "pygments_lexer": "ipython3",
   "version": "3.9.13"
  },
  "orig_nbformat": 4
 },
 "nbformat": 4,
 "nbformat_minor": 2
}
