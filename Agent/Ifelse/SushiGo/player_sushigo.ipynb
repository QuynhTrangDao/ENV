{
 "cells": [
  {
   "cell_type": "code",
   "execution_count": 1,
   "metadata": {},
   "outputs": [],
   "source": [
    "import sys\n",
    "sys.path.insert(0, '/VIS_3TH/')\n",
    "\n",
    "import numpy as np\n",
    "from numba import njit\n",
    "\n",
    "from setup import SHORT_PATH\n",
    "import importlib.util\n",
    "game_name = 'SushiGo'\n",
    "\n",
    "def add_game_to_syspath(game_name):\n",
    "    if len(sys.argv) >= 2:\n",
    "        sys.argv = [sys.argv[0]]\n",
    "    sys.argv.append(game_name)\n",
    "\n",
    "def setup_game(game_name):\n",
    "    spec = importlib.util.spec_from_file_location('env', f\"{SHORT_PATH}Base/{game_name}/env.py\")\n",
    "    module = importlib.util.module_from_spec(spec)\n",
    "    sys.modules[spec.name] = module \n",
    "    spec.loader.exec_module(module)\n",
    "    return module\n",
    "\n",
    "add_game_to_syspath(game_name)\n",
    "env = setup_game(game_name)\n",
    "\n",
    "getActionSize = env.getActionSize\n",
    "getStateSize = env.getStateSize\n",
    "getAgentSize = env.getAgentSize\n",
    "\n",
    "getValidActions = env.getValidActions\n",
    "getReward = env.getReward\n",
    "numba_main_2 = env.numba_main_2"
   ]
  },
  {
   "cell_type": "code",
   "execution_count": 2,
   "metadata": {},
   "outputs": [],
   "source": [
    "@njit()\n",
    "def player(state, per):\n",
    "    validActions = getValidActions(state)\n",
    "    validActions = np.where(validActions == 1)[0]\n",
    "\n",
    "    if 9 in validActions:\n",
    "        return 9, per\n",
    "\n",
    "    if 7 in validActions:\n",
    "        return 7, per\n",
    "    \n",
    "    if 1 in validActions:\n",
    "        return 1, per\n",
    "    \n",
    "    if 12 in validActions:\n",
    "        return 12, per\n",
    "    \n",
    "    if 5 in validActions:\n",
    "        return 5, per\n",
    "\n",
    "    if 6 in validActions:\n",
    "        return 6, per\n",
    "    \n",
    "    if 10 in validActions:\n",
    "        return 10, per\n",
    "    \n",
    "    if 2 in validActions:\n",
    "        return 2, per\n",
    "\n",
    "    if 0 in validActions:\n",
    "        return 0, per \n",
    "\n",
    "    if 8 in validActions:\n",
    "        return 8, per\n",
    "\n",
    "    if 4 in validActions:\n",
    "        return 4, per\n",
    "    \n",
    "    if 3 in validActions:\n",
    "        return 3, per\n",
    "    \n",
    "    if 11 in validActions:\n",
    "        return 11, per\n",
    "    \n",
    "    action = validActions[np.random.randint(len(validActions))]\n",
    "    return action,per"
   ]
  },
  {
   "cell_type": "code",
   "execution_count": 3,
   "metadata": {},
   "outputs": [
    {
     "data": {
      "text/plain": [
       "50166"
      ]
     },
     "execution_count": 3,
     "metadata": {},
     "output_type": "execute_result"
    }
   ],
   "source": [
    "win, per = numba_main_2(player, 100000, np.array([]), 1)\n",
    "win"
   ]
  }
 ],
 "metadata": {
  "kernelspec": {
   "display_name": "Python 3",
   "language": "python",
   "name": "python3"
  },
  "language_info": {
   "codemirror_mode": {
    "name": "ipython",
    "version": 3
   },
   "file_extension": ".py",
   "mimetype": "text/x-python",
   "name": "python",
   "nbconvert_exporter": "python",
   "pygments_lexer": "ipython3",
   "version": "3.9.13"
  },
  "orig_nbformat": 4
 },
 "nbformat": 4,
 "nbformat_minor": 2
}
