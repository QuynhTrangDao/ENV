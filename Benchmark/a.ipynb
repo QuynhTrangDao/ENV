{
 "cells": [
  {
   "attachments": {},
   "cell_type": "markdown",
   "metadata": {},
   "source": [
    "##  Viết nhanh level -1"
   ]
  },
  {
   "cell_type": "code",
   "execution_count": null,
   "metadata": {},
   "outputs": [],
   "source": [
    "import os\n",
    "game_name = 'WelcomeToTheDungeon_v1'\n",
    "start = ',\\n  \"-1\": [\\n   [],\\n   [],\\n   ['\n",
    "print(start)\n",
    "for i in os.listdir(f'A:\\ENV\\Agent\\Ifelse\\{game_name}'):\n",
    "    print(f'    \"{i[:-3]}\"', end=',\\n')\n",
    "end = '   ]\\n  ]'\n",
    "print(end)"
   ]
  },
  {
   "cell_type": "code",
   "execution_count": null,
   "metadata": {},
   "outputs": [],
   "source": [
    "import json\n",
    "a = json.load(open('A:\\ENV\\Log\\level_game.json'))\n",
    "for i in a:\n",
    "    print(i, '-------------', list(a[i].keys())[2:])"
   ]
  },
  {
   "attachments": {},
   "cell_type": "markdown",
   "metadata": {},
   "source": [
    "##  Kiểm tra hiệu suất của mô hình"
   ]
  },
  {
   "cell_type": "code",
   "execution_count": 1,
   "metadata": {},
   "outputs": [
    {
     "name": "stdout",
     "output_type": "stream",
     "text": [
      "A:\\ENV\n"
     ]
    }
   ],
   "source": [
    "##  Kiểm tra hiện suất của hệ thống\n",
    "#  !git clone https://github.com/ngoxuanphong/ENV.git\n",
    "%cd A:/ENV\n",
    "import warnings \n",
    "warnings.filterwarnings('ignore')\n",
    "from numba.core.errors import NumbaDeprecationWarning, NumbaPendingDeprecationWarning,NumbaExperimentalFeatureWarning, NumbaWarning\n",
    "warnings.simplefilter('ignore', category=NumbaDeprecationWarning)\n",
    "warnings.simplefilter('ignore', category=NumbaPendingDeprecationWarning)\n",
    "warnings.simplefilter('ignore', category=NumbaExperimentalFeatureWarning)\n",
    "warnings.simplefilter('ignore', category=NumbaWarning)\n",
    "\n",
    "from numba import njit\n",
    "from numba.typed import List\n",
    "import numpy as np\n",
    "from setup import make\n",
    "import os\n",
    "import pandas as pd\n",
    "from time import time"
   ]
  },
  {
   "cell_type": "code",
   "execution_count": 2,
   "metadata": {},
   "outputs": [
    {
     "name": "stdout",
     "output_type": "stream",
     "text": [
      "Game name: Fantan | Win rate: \n",
      "        Level 0: 2423/10000 in 27 seconds\n",
      "        Level 1: 107/10000 in 50 seconds\n",
      "        Level -1: Chưa có level này\n"
     ]
    },
    {
     "data": {
      "text/plain": [
       "{'Fantan': {'Win rate': [2423, 107, False],\n",
       "  'Time': [27, 50, False],\n",
       "  'Graphics': False}}"
      ]
     },
     "execution_count": 2,
     "metadata": {},
     "output_type": "execute_result"
    }
   ],
   "source": [
    "def test_game(game_name, dict_test = {}):\n",
    "    env = make(game_name)\n",
    "    getValidActions = env.getValidActions\n",
    "    numba_main_2 = env.numba_main_2\n",
    "\n",
    "    @njit()\n",
    "    def Test(state, perData):\n",
    "        validActions = getValidActions(state)\n",
    "        arr_action = np.where(validActions==1)[0]\n",
    "        idx = np.random.randint(0, arr_action.shape[0])\n",
    "        return arr_action[idx], perData\n",
    "    \n",
    "    per_test = [0]\n",
    "    a = time()\n",
    "    win1, per_test = numba_main_2(Test, 10000, per_test, 0)\n",
    "    b = time()\n",
    "    win2, per_test = numba_main_2(Test, 10000, per_test, 1)\n",
    "    c = time()\n",
    "    print(f'Game name: {game_name} | Win rate: ')\n",
    "    print(f'        Level 0: {win1}/10000 in {int(b-a)} seconds')\n",
    "    print(f'        Level 1: {win2}/10000 in {int(c-b)} seconds')\n",
    "    try:\n",
    "        win3, per_test = numba_main_2(Test, 10000, per_test, -1)\n",
    "        d = time()\n",
    "        time_lv_if = int(d-c)\n",
    "    except:\n",
    "        win3 = False\n",
    "        time_lv_if = False\n",
    "    if not win3:\n",
    "        print(f'        Level -1: Chưa có level này')\n",
    "    else:\n",
    "        print(f'        Level -1: {win3}/10000 in {int(d-c)} seconds')\n",
    "    dict_test[game_name] = {'Win rate': [win1, win2, win3], \n",
    "                            'Time': [int(b-a), int(c-b), time_lv_if],\n",
    "                            'Graphics': os.path.exists(f'Base/{game_name}/_render_func.py')}\n",
    "    return dict_test\n",
    "\n",
    "test_game('Fantan')"
   ]
  },
  {
   "cell_type": "code",
   "execution_count": 3,
   "metadata": {},
   "outputs": [
    {
     "name": "stdout",
     "output_type": "stream",
     "text": [
      "Game name: Catan | Win rate: \n",
      "        Level 0: 2463/10000 in 318 seconds\n",
      "        Level 1: 206/10000 in 191 seconds\n",
      "        Level -1: 8/10000 in 188 seconds\n",
      "Game name: CatanNoExchange | Win rate: \n",
      "        Level 0: 2506/10000 in 239 seconds\n",
      "        Level 1: 350/10000 in 773 seconds\n",
      "        Level -1: 23/10000 in 128 seconds\n",
      "Game name: Century | Win rate: \n",
      "        Level 0: 2055/10000 in 39 seconds\n",
      "        Level 1: 13/10000 in 51 seconds\n",
      "        Level -1: Chưa có level này\n",
      "Game name: Durak | Win rate: \n",
      "        Level 0: 2484/10000 in 17 seconds\n",
      "        Level 1: 491/10000 in 16 seconds\n",
      "        Level -1: Chưa có level này\n",
      "Game name: Exploding_Kitten | Win rate: \n",
      "        Level 0: 2021/10000 in 29 seconds\n",
      "        Level 1: 1639/10000 in 25 seconds\n",
      "        Level -1: Chưa có level này\n"
     ]
    },
    {
     "ename": "KeyError",
     "evalue": "'Exploding_Kitten'",
     "output_type": "error",
     "traceback": [
      "\u001b[1;31m---------------------------------------------------------------------------\u001b[0m",
      "\u001b[1;31mKeyError\u001b[0m                                  Traceback (most recent call last)",
      "\u001b[1;32ma:\\ENV\\Benchmark\\a.ipynb Cell 7\u001b[0m in \u001b[0;36m<cell line: 3>\u001b[1;34m()\u001b[0m\n\u001b[0;32m      <a href='vscode-notebook-cell:/a%3A/ENV/Benchmark/a.ipynb#W6sZmlsZQ%3D%3D?line=1'>2</a>\u001b[0m dict_test \u001b[39m=\u001b[39m {}\n\u001b[0;32m      <a href='vscode-notebook-cell:/a%3A/ENV/Benchmark/a.ipynb#W6sZmlsZQ%3D%3D?line=2'>3</a>\u001b[0m \u001b[39mfor\u001b[39;00m game_name \u001b[39min\u001b[39;00m os\u001b[39m.\u001b[39mlistdir(\u001b[39m'\u001b[39m\u001b[39mBase\u001b[39m\u001b[39m'\u001b[39m):\n\u001b[1;32m----> <a href='vscode-notebook-cell:/a%3A/ENV/Benchmark/a.ipynb#W6sZmlsZQ%3D%3D?line=3'>4</a>\u001b[0m     dict_test \u001b[39m=\u001b[39m test_game(game_name, dict_test)\n\u001b[0;32m      <a href='vscode-notebook-cell:/a%3A/ENV/Benchmark/a.ipynb#W6sZmlsZQ%3D%3D?line=4'>5</a>\u001b[0m df \u001b[39m=\u001b[39m pd\u001b[39m.\u001b[39mDataFrame(dict_test)\u001b[39m.\u001b[39mT\n\u001b[0;32m      <a href='vscode-notebook-cell:/a%3A/ENV/Benchmark/a.ipynb#W6sZmlsZQ%3D%3D?line=5'>6</a>\u001b[0m df\u001b[39m.\u001b[39mto_csv(\u001b[39m'\u001b[39m\u001b[39mA:/ENV/Benchmark/time_win.csv\u001b[39m\u001b[39m'\u001b[39m)\n",
      "\u001b[1;32ma:\\ENV\\Benchmark\\a.ipynb Cell 7\u001b[0m in \u001b[0;36mtest_game\u001b[1;34m(game_name, dict_test)\u001b[0m\n\u001b[0;32m     <a href='vscode-notebook-cell:/a%3A/ENV/Benchmark/a.ipynb#W6sZmlsZQ%3D%3D?line=14'>15</a>\u001b[0m win1, per_test \u001b[39m=\u001b[39m numba_main_2(Test, \u001b[39m10000\u001b[39m, per_test, \u001b[39m0\u001b[39m)\n\u001b[0;32m     <a href='vscode-notebook-cell:/a%3A/ENV/Benchmark/a.ipynb#W6sZmlsZQ%3D%3D?line=15'>16</a>\u001b[0m b \u001b[39m=\u001b[39m time()\n\u001b[1;32m---> <a href='vscode-notebook-cell:/a%3A/ENV/Benchmark/a.ipynb#W6sZmlsZQ%3D%3D?line=16'>17</a>\u001b[0m win2, per_test \u001b[39m=\u001b[39m numba_main_2(Test, \u001b[39m10000\u001b[39;49m, per_test, \u001b[39m1\u001b[39;49m)\n\u001b[0;32m     <a href='vscode-notebook-cell:/a%3A/ENV/Benchmark/a.ipynb#W6sZmlsZQ%3D%3D?line=17'>18</a>\u001b[0m c \u001b[39m=\u001b[39m time()\n\u001b[0;32m     <a href='vscode-notebook-cell:/a%3A/ENV/Benchmark/a.ipynb#W6sZmlsZQ%3D%3D?line=18'>19</a>\u001b[0m \u001b[39mprint\u001b[39m(\u001b[39mf\u001b[39m\u001b[39m'\u001b[39m\u001b[39mGame name: \u001b[39m\u001b[39m{\u001b[39;00mgame_name\u001b[39m}\u001b[39;00m\u001b[39m | Win rate: \u001b[39m\u001b[39m'\u001b[39m)\n",
      "File \u001b[1;32mA:\\ENV\\Base\\Exploding_Kitten\\_env.py:955\u001b[0m, in \u001b[0;36mnumba_main_2\u001b[1;34m(p0, num_game, per_player, level, *args)\u001b[0m\n\u001b[0;32m    952\u001b[0m \u001b[39mexcept\u001b[39;00m:\n\u001b[0;32m    953\u001b[0m     check_njit \u001b[39m=\u001b[39m \u001b[39mFalse\u001b[39;00m\n\u001b[1;32m--> 955\u001b[0m load_agent(level, \u001b[39m*\u001b[39;49margs)\n\u001b[0;32m    957\u001b[0m \u001b[39mif\u001b[39;00m check_njit:\n\u001b[0;32m    958\u001b[0m     \u001b[39mreturn\u001b[39;00m n_game_numba(\n\u001b[0;32m    959\u001b[0m         p0,\n\u001b[0;32m    960\u001b[0m         num_game,\n\u001b[1;32m   (...)\u001b[0m\n\u001b[0;32m    970\u001b[0m         _list_bot_level_[\u001b[39m3\u001b[39m],\n\u001b[0;32m    971\u001b[0m     )\n",
      "File \u001b[1;32mA:\\ENV\\Base\\Exploding_Kitten\\_env.py:927\u001b[0m, in \u001b[0;36mload_agent\u001b[1;34m(level, *args)\u001b[0m\n\u001b[0;32m    924\u001b[0m \u001b[39melse\u001b[39;00m:\n\u001b[0;32m    925\u001b[0m     dict_level \u001b[39m=\u001b[39m json\u001b[39m.\u001b[39mload(\u001b[39mopen\u001b[39m(\u001b[39mf\u001b[39m\u001b[39m\"\u001b[39m\u001b[39m{\u001b[39;00mSHORT_PATH\u001b[39m}\u001b[39;00m\u001b[39mLog/level_game.json\u001b[39m\u001b[39m\"\u001b[39m))\n\u001b[1;32m--> 927\u001b[0m \u001b[39mif\u001b[39;00m \u001b[39mstr\u001b[39m(_level_) \u001b[39mnot\u001b[39;00m \u001b[39min\u001b[39;00m dict_level[env_name]:\n\u001b[0;32m    928\u001b[0m     \u001b[39mraise\u001b[39;00m \u001b[39mException\u001b[39;00m(\u001b[39m\"\u001b[39m\u001b[39mHiện tại không có level này\u001b[39m\u001b[39m\"\u001b[39m)\n\u001b[0;32m    930\u001b[0m lst_agent_level \u001b[39m=\u001b[39m dict_level[env_name][\u001b[39mstr\u001b[39m(level)][\u001b[39m2\u001b[39m]\n",
      "\u001b[1;31mKeyError\u001b[0m: 'Exploding_Kitten'"
     ]
    }
   ],
   "source": [
    "list_game = os.listdir('Base')\n",
    "dict_test = {}\n",
    "for game_name in os.listdir('Base'):\n",
    "    dict_test = test_game(game_name, dict_test)\n",
    "df = pd.DataFrame(dict_test).T\n",
    "df.to_csv('A:/ENV/Benchmark/time_win.csv')"
   ]
  },
  {
   "attachments": {},
   "cell_type": "markdown",
   "metadata": {},
   "source": [
    "##  Test lại agent level 2"
   ]
  },
  {
   "cell_type": "code",
   "execution_count": null,
   "metadata": {},
   "outputs": [],
   "source": [
    "#  Test lại agent lv2\n",
    "\n",
    "def test_game(game_name):\n",
    "    env = make(game_name)\n",
    "    getActionSize = env.getActionSize\n",
    "    getValidActions = env.getValidActions\n",
    "    getReward = env.getReward\n",
    "    numba_main_2 = env.numba_main_2\n",
    "\n",
    "    @njit\n",
    "    def Test(state,per):    \n",
    "        actions = getValidActions(state)\n",
    "        if per[-1][0][0][0][0] == 2:\n",
    "            depth_tree = int(per[14][0][0][0][0])\n",
    "            actions = getValidActions(state)\n",
    "            output = per[-4][0][0][depth_tree] * actions + actions\n",
    "            action = np.argmax(output)\n",
    "        else:\n",
    "            weight = per[-11][0][0][0]\n",
    "            output = actions*weight + actions\n",
    "            c = np.where(output == np.max(output))[0]\n",
    "            action = np.random.choice(c)\n",
    "            win = getReward(state)\n",
    "\n",
    "            per[-11][0][0] += per[-9][0][0][action]\n",
    "            if win != -1:\n",
    "                per[-11][0][0] = np.zeros((1, getActionSize()))\n",
    "        return action,per\n",
    "\n",
    "    def convert_to_save(per):\n",
    "        lst = []\n",
    "        for i in range(len(per)):\n",
    "            if len(per[i]) == 0:\n",
    "                lst.append(List([np.zeros((1,1,1))]))\n",
    "            else:\n",
    "                lst.append(per[i])\n",
    "        return lst\n",
    "\n",
    "    def convert_to_test(lst):\n",
    "        per = []\n",
    "        for i in range(len(lst)):\n",
    "            per.append(List(lst[i]))\n",
    "        return per\n",
    "    \n",
    "    try:\n",
    "        per_test = convert_to_test(np.load(f'A:\\Trash\\Data\\{game_name}.npy', allow_pickle=True))\n",
    "        win1, per_test = numba_main_2(Test, 10000, per_test, 1)\n",
    "        win2, per_test = numba_main_2(Test, 10000, per_test, -1)\n",
    "        print(f'Game name: {game_name} | Win rate: \\n      Level 1: {win1}/10000 | Level -1: {win2}/10000')\n",
    "    except:\n",
    "        print(f'Game name: {game_name} | Game này chưa có level if else')\n",
    "\n",
    "test_game('SushiGo')\n",
    "for game_name in ['Splendor', 'TLMN', 'Catan']:\n",
    "    test_game(game_name)\n",
    "import os\n",
    "list_game = os.listdir('A:\\Trash\\Data')\n",
    "for game_name in list_game:\n",
    "    test_game(game_name[:-4])"
   ]
  },
  {
   "attachments": {},
   "cell_type": "markdown",
   "metadata": {},
   "source": [
    "#  Test lại agent if else"
   ]
  },
  {
   "cell_type": "code",
   "execution_count": 2,
   "metadata": {},
   "outputs": [
    {
     "name": "stdout",
     "output_type": "stream",
     "text": [
      "A:\\ENV\n"
     ]
    }
   ],
   "source": [
    "##  Kiểm tra hiện suất của hệ thống\n",
    "#  !git clone https://github.com/ngoxuanphong/ENV.git\n",
    "%cd A:/ENV\n",
    "import importlib.util\n",
    "import warnings \n",
    "warnings.filterwarnings('ignore')\n",
    "from numba.core.errors import NumbaDeprecationWarning, NumbaPendingDeprecationWarning,NumbaExperimentalFeatureWarning, NumbaWarning\n",
    "warnings.simplefilter('ignore', category=NumbaDeprecationWarning)\n",
    "warnings.simplefilter('ignore', category=NumbaPendingDeprecationWarning)\n",
    "warnings.simplefilter('ignore', category=NumbaExperimentalFeatureWarning)\n",
    "warnings.simplefilter('ignore', category=NumbaWarning)\n",
    "\n",
    "from numba import njit\n",
    "from numba.typed import List\n",
    "import numba, os, sys\n",
    "import numpy as np\n",
    "from setup import make\n",
    "game_name = 'MachiKoro'\n",
    "env = make(game_name)\n",
    "getActionSize = env.getActionSize\n",
    "getStateSize = env.getStateSize\n",
    "getAgentSize = env.getAgentSize\n",
    "\n",
    "getValidActions = env.getValidActions\n",
    "getReward = env.getReward\n",
    "numba_main_2 = env.numba_main_2"
   ]
  },
  {
   "cell_type": "code",
   "execution_count": 7,
   "metadata": {},
   "outputs": [
    {
     "name": "stdout",
     "output_type": "stream",
     "text": [
      "game name: TicketToRide, Agent: PT | Win rate: 98/1\n"
     ]
    }
   ],
   "source": [
    "def run_game(game_name):\n",
    "    path  = f'A:\\ENV\\Agent\\Ifelse\\{game_name}'\n",
    "    env = make(game_name)\n",
    "    def load_module_player(player, game_name = None):\n",
    "        spec = importlib.util.spec_from_file_location('Agent_player', f\"Agent/ifelse/{game_name}/{player}.py\")\n",
    "        module = importlib.util.module_from_spec(spec)\n",
    "        sys.modules[spec.name] = module\n",
    "        spec.loader.exec_module(module)\n",
    "        return module\n",
    "\n",
    "    for i in os.listdir(path):\n",
    "        if '.py' in i:\n",
    "            path_new = path + '/' + i\n",
    "            #  print(path_new)\n",
    "            agent = load_module_player(i[:-3], game_name = game_name)\n",
    "            win, per = env.numba_main_2(agent.Test, 10000, agent.DataAgent(), 1)\n",
    "            print(f'game name: {game_name}, Agent: {i[:-3]} | Win rate: {win}/1')\n",
    "\n",
    "#  for game_name in ['Exploding_Kitten', 'Fantan', 'GoFish', 'WelcomeToTheDungeon_v1', 'WelcomeToTheDungeon_v2', 'CatanNoExchange', ]:\n",
    "\n",
    "for game_name in ['TicketToRide']:\n",
    "    run_game(game_name) "
   ]
  },
  {
   "attachments": {},
   "cell_type": "markdown",
   "metadata": {},
   "source": [
    "#  Graphic\n"
   ]
  },
  {
   "cell_type": "code",
   "execution_count": 8,
   "metadata": {},
   "outputs": [
    {
     "name": "stdout",
     "output_type": "stream",
     "text": [
      "A:\\ENV\n"
     ]
    }
   ],
   "source": [
    "%cd A:/ENV"
   ]
  },
  {
   "cell_type": "code",
   "execution_count": 9,
   "metadata": {},
   "outputs": [],
   "source": [
    "from setup import make\n",
    "from Base.MachiKoro._env import bot_lv0\n",
    "env = make(\"Durak\")"
   ]
  },
  {
   "cell_type": "code",
   "execution_count": 10,
   "metadata": {},
   "outputs": [
    {
     "ename": "TypingError",
     "evalue": "Failed in nopython mode pipeline (step: nopython frontend)\nInternal error at <numba.core.typeinfer.CallConstraint object at 0x0000023998316DD0>.\n\u001b[1m\u001b[1m\u001b[1mcan't compile getActionSize: import of module _env failed\u001b[0m\n\u001b[0m\u001b[1mDuring: resolving callee type: type(CPUDispatcher(<function getActionSize at 0x00000239A59E81F0>))\u001b[0m\n\u001b[0m\u001b[1mDuring: typing of call at A:\\ENV\\Base/Durak/_env.py (87)\n\u001b[0m\nEnable logging at debug level for details.\n\u001b[1m\nFile \"Base\\Durak\\_env.py\", line 87:\u001b[0m\n\u001b[1mdef getValidActions(state):\n\u001b[1m    list_action = np.zeros(getActionSize())\n\u001b[0m    \u001b[1m^\u001b[0m\u001b[0m\n",
     "output_type": "error",
     "traceback": [
      "\u001b[1;31m---------------------------------------------------------------------------\u001b[0m",
      "\u001b[1;31mTypingError\u001b[0m                               Traceback (most recent call last)",
      "\u001b[1;32ma:\\ENV\\Run\\a.ipynb Cell 16\u001b[0m in \u001b[0;36m<cell line: 1>\u001b[1;34m()\u001b[0m\n\u001b[1;32m----> <a href='vscode-notebook-cell:/a%3A/ENV/Run/a.ipynb#X21sZmlsZQ%3D%3D?line=0'>1</a>\u001b[0m env\u001b[39m.\u001b[39;49mrender(Agent\u001b[39m=\u001b[39;49m\u001b[39m\"\u001b[39;49m\u001b[39mhuman\u001b[39;49m\u001b[39m\"\u001b[39;49m, per_data\u001b[39m=\u001b[39;49m[\u001b[39m0\u001b[39;49m], level\u001b[39m=\u001b[39;49m\u001b[39m0\u001b[39;49m, max_temp_frame\u001b[39m=\u001b[39;49m\u001b[39m100\u001b[39;49m)\n",
      "File \u001b[1;32mA:\\ENV\\Base/Durak/env.py:24\u001b[0m, in \u001b[0;36mrender\u001b[1;34m(Agent, per_data, level, max_temp_frame, *args)\u001b[0m\n\u001b[0;32m     22\u001b[0m \u001b[39mif\u001b[39;00m \u001b[39m\"\u001b[39m\u001b[39m__render\u001b[39m\u001b[39m\"\u001b[39m \u001b[39mnot\u001b[39;00m \u001b[39min\u001b[39;00m \u001b[39mglobals\u001b[39m():\n\u001b[0;32m     23\u001b[0m     \u001b[39mglobal\u001b[39;00m __render\n\u001b[1;32m---> 24\u001b[0m     __render \u001b[39m=\u001b[39m __Render(Agent, per_data, list_agent, list_data, max_temp_frame)\n\u001b[0;32m     25\u001b[0m \u001b[39melse\u001b[39;00m:\n\u001b[0;32m     26\u001b[0m     __render\u001b[39m.\u001b[39m\u001b[39m__init__\u001b[39m(Agent, per_data, list_agent, list_data, max_temp_frame)\n",
      "File \u001b[1;32mA:\\ENV\\render_template.py:81\u001b[0m, in \u001b[0;36mRender.__init__\u001b[1;34m(self, Agent, Data, list_agent, list_data, max_temp_frame)\u001b[0m\n\u001b[0;32m     78\u001b[0m \u001b[39mself\u001b[39m\u001b[39m.\u001b[39mhbox \u001b[39m=\u001b[39m widgets\u001b[39m.\u001b[39mHBox([\u001b[39mself\u001b[39m\u001b[39m.\u001b[39mtake, \u001b[39mself\u001b[39m\u001b[39m.\u001b[39mprevious, \u001b[39mself\u001b[39m\u001b[39m.\u001b[39mslider, \u001b[39mself\u001b[39m\u001b[39m.\u001b[39mnext, \u001b[39mself\u001b[39m\u001b[39m.\u001b[39mexplain], layout\u001b[39m=\u001b[39mwidgets\u001b[39m.\u001b[39mLayout(width\u001b[39m=\u001b[39m\u001b[39m\"\u001b[39m\u001b[39m100\u001b[39m\u001b[39m%\u001b[39m\u001b[39m\"\u001b[39m))\n\u001b[0;32m     79\u001b[0m \u001b[39mself\u001b[39m\u001b[39m.\u001b[39mvbox \u001b[39m=\u001b[39m widgets\u001b[39m.\u001b[39mVBox([\u001b[39mself\u001b[39m\u001b[39m.\u001b[39moutput_image, \u001b[39mself\u001b[39m\u001b[39m.\u001b[39mhbox, \u001b[39mself\u001b[39m\u001b[39m.\u001b[39moutput_text], layout\u001b[39m=\u001b[39mwidgets\u001b[39m.\u001b[39mLayout(display\u001b[39m=\u001b[39m\u001b[39m\"\u001b[39m\u001b[39mflex\u001b[39m\u001b[39m\"\u001b[39m, align_items\u001b[39m=\u001b[39m\u001b[39m\"\u001b[39m\u001b[39mcenter\u001b[39m\u001b[39m\"\u001b[39m))\n\u001b[1;32m---> 81\u001b[0m \u001b[39mself\u001b[39;49m\u001b[39m.\u001b[39;49mstart()\n",
      "File \u001b[1;32mA:\\ENV\\render_template.py:93\u001b[0m, in \u001b[0;36mRender.start\u001b[1;34m(self)\u001b[0m\n\u001b[0;32m     91\u001b[0m \u001b[39mif\u001b[39;00m \u001b[39mtype\u001b[39m(\u001b[39mself\u001b[39m\u001b[39m.\u001b[39mAgent) \u001b[39m==\u001b[39m \u001b[39mstr\u001b[39m \u001b[39mand\u001b[39;00m \u001b[39mself\u001b[39m\u001b[39m.\u001b[39mAgent\u001b[39m.\u001b[39mlower() \u001b[39m==\u001b[39m \u001b[39m\"\u001b[39m\u001b[39mhuman\u001b[39m\u001b[39m\"\u001b[39m:\n\u001b[0;32m     92\u001b[0m     \u001b[39mself\u001b[39m\u001b[39m.\u001b[39msystem_mode \u001b[39m=\u001b[39m \u001b[39m\"\u001b[39m\u001b[39mplay\u001b[39m\u001b[39m\"\u001b[39m\n\u001b[1;32m---> 93\u001b[0m     \u001b[39mself\u001b[39;49m\u001b[39m.\u001b[39;49mstep()\n\u001b[0;32m     94\u001b[0m \u001b[39melse\u001b[39;00m:\n\u001b[0;32m     95\u001b[0m     action \u001b[39m=\u001b[39m \u001b[39mNone\u001b[39;00m\n",
      "File \u001b[1;32mA:\\ENV\\render_template.py:140\u001b[0m, in \u001b[0;36mRender.step\u001b[1;34m(self, action)\u001b[0m\n\u001b[0;32m    138\u001b[0m \u001b[39mself\u001b[39m\u001b[39m.\u001b[39mimages[\u001b[39mself\u001b[39m\u001b[39m.\u001b[39mmax_state_idx] \u001b[39m=\u001b[39m _render_func\u001b[39m.\u001b[39mget_state_image(state)\n\u001b[0;32m    139\u001b[0m \u001b[39mself\u001b[39m\u001b[39m.\u001b[39mslider\u001b[39m.\u001b[39mmax \u001b[39m=\u001b[39m \u001b[39mself\u001b[39m\u001b[39m.\u001b[39mmax_state_idx\n\u001b[1;32m--> 140\u001b[0m \u001b[39mself\u001b[39m\u001b[39m.\u001b[39mslider\u001b[39m.\u001b[39mvalue \u001b[39m=\u001b[39m \u001b[39mself\u001b[39m\u001b[39m.\u001b[39mslider\u001b[39m.\u001b[39mmax\n\u001b[0;32m    141\u001b[0m \u001b[39mif\u001b[39;00m \u001b[39mself\u001b[39m\u001b[39m.\u001b[39mmax_state_idx \u001b[39m==\u001b[39m \u001b[39m0\u001b[39m:\n\u001b[0;32m    142\u001b[0m     \u001b[39mself\u001b[39m\u001b[39m.\u001b[39mslider\u001b[39m.\u001b[39mmin \u001b[39m=\u001b[39m \u001b[39m0\u001b[39m\n",
      "File \u001b[1;32mc:\\Users\\ADMIN\\AppData\\Local\\Programs\\Python\\Python310\\lib\\site-packages\\traitlets\\traitlets.py:606\u001b[0m, in \u001b[0;36mTraitType.__set__\u001b[1;34m(self, obj, value)\u001b[0m\n\u001b[0;32m    604\u001b[0m     \u001b[39mraise\u001b[39;00m TraitError(\u001b[39m'\u001b[39m\u001b[39mThe \u001b[39m\u001b[39m\"\u001b[39m\u001b[39m%s\u001b[39;00m\u001b[39m\"\u001b[39m\u001b[39m trait is read-only.\u001b[39m\u001b[39m'\u001b[39m \u001b[39m%\u001b[39m \u001b[39mself\u001b[39m\u001b[39m.\u001b[39mname)\n\u001b[0;32m    605\u001b[0m \u001b[39melse\u001b[39;00m:\n\u001b[1;32m--> 606\u001b[0m     \u001b[39mself\u001b[39;49m\u001b[39m.\u001b[39;49mset(obj, value)\n",
      "File \u001b[1;32mc:\\Users\\ADMIN\\AppData\\Local\\Programs\\Python\\Python310\\lib\\site-packages\\traitlets\\traitlets.py:595\u001b[0m, in \u001b[0;36mTraitType.set\u001b[1;34m(self, obj, value)\u001b[0m\n\u001b[0;32m    591\u001b[0m     silent \u001b[39m=\u001b[39m \u001b[39mFalse\u001b[39;00m\n\u001b[0;32m    592\u001b[0m \u001b[39mif\u001b[39;00m silent \u001b[39mis\u001b[39;00m \u001b[39mnot\u001b[39;00m \u001b[39mTrue\u001b[39;00m:\n\u001b[0;32m    593\u001b[0m     \u001b[39m#  we explicitly compare silent to True just in case the equality\u001b[39;00m\n\u001b[0;32m    594\u001b[0m     \u001b[39m#  comparison above returns something other than True/False\u001b[39;00m\n\u001b[1;32m--> 595\u001b[0m     obj\u001b[39m.\u001b[39;49m_notify_trait(\u001b[39mself\u001b[39;49m\u001b[39m.\u001b[39;49mname, old_value, new_value)\n",
      "File \u001b[1;32mc:\\Users\\ADMIN\\AppData\\Local\\Programs\\Python\\Python310\\lib\\site-packages\\traitlets\\traitlets.py:1219\u001b[0m, in \u001b[0;36mHasTraits._notify_trait\u001b[1;34m(self, name, old_value, new_value)\u001b[0m\n\u001b[0;32m   1218\u001b[0m \u001b[39mdef\u001b[39;00m \u001b[39m_notify_trait\u001b[39m(\u001b[39mself\u001b[39m, name, old_value, new_value):\n\u001b[1;32m-> 1219\u001b[0m     \u001b[39mself\u001b[39;49m\u001b[39m.\u001b[39;49mnotify_change(Bunch(\n\u001b[0;32m   1220\u001b[0m         name\u001b[39m=\u001b[39;49mname,\n\u001b[0;32m   1221\u001b[0m         old\u001b[39m=\u001b[39;49mold_value,\n\u001b[0;32m   1222\u001b[0m         new\u001b[39m=\u001b[39;49mnew_value,\n\u001b[0;32m   1223\u001b[0m         owner\u001b[39m=\u001b[39;49m\u001b[39mself\u001b[39;49m,\n\u001b[0;32m   1224\u001b[0m         \u001b[39mtype\u001b[39;49m\u001b[39m=\u001b[39;49m\u001b[39m'\u001b[39;49m\u001b[39mchange\u001b[39;49m\u001b[39m'\u001b[39;49m,\n\u001b[0;32m   1225\u001b[0m     ))\n",
      "File \u001b[1;32mc:\\Users\\ADMIN\\AppData\\Local\\Programs\\Python\\Python310\\lib\\site-packages\\ipywidgets\\widgets\\widget.py:701\u001b[0m, in \u001b[0;36mWidget.notify_change\u001b[1;34m(self, change)\u001b[0m\n\u001b[0;32m    698\u001b[0m     \u001b[39mif\u001b[39;00m name \u001b[39min\u001b[39;00m \u001b[39mself\u001b[39m\u001b[39m.\u001b[39mkeys \u001b[39mand\u001b[39;00m \u001b[39mself\u001b[39m\u001b[39m.\u001b[39m_should_send_property(name, \u001b[39mgetattr\u001b[39m(\u001b[39mself\u001b[39m, name)):\n\u001b[0;32m    699\u001b[0m         \u001b[39m#  Send new state to front-end\u001b[39;00m\n\u001b[0;32m    700\u001b[0m         \u001b[39mself\u001b[39m\u001b[39m.\u001b[39msend_state(key\u001b[39m=\u001b[39mname)\n\u001b[1;32m--> 701\u001b[0m \u001b[39msuper\u001b[39;49m()\u001b[39m.\u001b[39;49mnotify_change(change)\n",
      "File \u001b[1;32mc:\\Users\\ADMIN\\AppData\\Local\\Programs\\Python\\Python310\\lib\\site-packages\\traitlets\\traitlets.py:1229\u001b[0m, in \u001b[0;36mHasTraits.notify_change\u001b[1;34m(self, change)\u001b[0m\n\u001b[0;32m   1227\u001b[0m \u001b[39mdef\u001b[39;00m \u001b[39mnotify_change\u001b[39m(\u001b[39mself\u001b[39m, change):\n\u001b[0;32m   1228\u001b[0m     \u001b[39m\"\"\"Notify observers of a change event\"\"\"\u001b[39;00m\n\u001b[1;32m-> 1229\u001b[0m     \u001b[39mreturn\u001b[39;00m \u001b[39mself\u001b[39;49m\u001b[39m.\u001b[39;49m_notify_observers(change)\n",
      "File \u001b[1;32mc:\\Users\\ADMIN\\AppData\\Local\\Programs\\Python\\Python310\\lib\\site-packages\\traitlets\\traitlets.py:1266\u001b[0m, in \u001b[0;36mHasTraits._notify_observers\u001b[1;34m(self, event)\u001b[0m\n\u001b[0;32m   1263\u001b[0m \u001b[39melif\u001b[39;00m \u001b[39misinstance\u001b[39m(c, EventHandler) \u001b[39mand\u001b[39;00m c\u001b[39m.\u001b[39mname \u001b[39mis\u001b[39;00m \u001b[39mnot\u001b[39;00m \u001b[39mNone\u001b[39;00m:\n\u001b[0;32m   1264\u001b[0m     c \u001b[39m=\u001b[39m \u001b[39mgetattr\u001b[39m(\u001b[39mself\u001b[39m, c\u001b[39m.\u001b[39mname)\n\u001b[1;32m-> 1266\u001b[0m c(event)\n",
      "File \u001b[1;32mA:\\ENV\\render_template.py:197\u001b[0m, in \u001b[0;36mRender.handle_slider\u001b[1;34m(self, p)\u001b[0m\n\u001b[0;32m    195\u001b[0m state \u001b[39m=\u001b[39m \u001b[39mself\u001b[39m\u001b[39m.\u001b[39mhistory_state[p\u001b[39m.\u001b[39mnew]\n\u001b[0;32m    196\u001b[0m \u001b[39mif\u001b[39;00m \u001b[39mlen\u001b[39m(\u001b[39mself\u001b[39m\u001b[39m.\u001b[39mhistory_valid_actions) \u001b[39m!=\u001b[39m \u001b[39mself\u001b[39m\u001b[39m.\u001b[39mmax_state_idx \u001b[39m+\u001b[39m \u001b[39m1\u001b[39m:\n\u001b[1;32m--> 197\u001b[0m     valid_actions \u001b[39m=\u001b[39m np\u001b[39m.\u001b[39mwhere(_env\u001b[39m.\u001b[39;49mgetValidActions(state) \u001b[39m==\u001b[39m \u001b[39m1\u001b[39m)[\u001b[39m0\u001b[39m]\n\u001b[0;32m    198\u001b[0m     \u001b[39mself\u001b[39m\u001b[39m.\u001b[39mhistory_valid_actions\u001b[39m.\u001b[39mappend(valid_actions)\n\u001b[0;32m    199\u001b[0m \u001b[39melse\u001b[39;00m:\n",
      "File \u001b[1;32mc:\\Users\\ADMIN\\AppData\\Local\\Programs\\Python\\Python310\\lib\\site-packages\\numba\\core\\dispatcher.py:468\u001b[0m, in \u001b[0;36m_DispatcherBase._compile_for_args\u001b[1;34m(self, *args, **kws)\u001b[0m\n\u001b[0;32m    464\u001b[0m         msg \u001b[39m=\u001b[39m (\u001b[39mf\u001b[39m\u001b[39m\"\u001b[39m\u001b[39m{\u001b[39;00m\u001b[39mstr\u001b[39m(e)\u001b[39m.\u001b[39mrstrip()\u001b[39m}\u001b[39;00m\u001b[39m \u001b[39m\u001b[39m\\n\u001b[39;00m\u001b[39m\\n\u001b[39;00m\u001b[39mThis error may have been caused \u001b[39m\u001b[39m\"\u001b[39m\n\u001b[0;32m    465\u001b[0m                \u001b[39mf\u001b[39m\u001b[39m\"\u001b[39m\u001b[39mby the following argument(s):\u001b[39m\u001b[39m\\n\u001b[39;00m\u001b[39m{\u001b[39;00margs_str\u001b[39m}\u001b[39;00m\u001b[39m\\n\u001b[39;00m\u001b[39m\"\u001b[39m)\n\u001b[0;32m    466\u001b[0m         e\u001b[39m.\u001b[39mpatch_message(msg)\n\u001b[1;32m--> 468\u001b[0m     error_rewrite(e, \u001b[39m'\u001b[39;49m\u001b[39mtyping\u001b[39;49m\u001b[39m'\u001b[39;49m)\n\u001b[0;32m    469\u001b[0m \u001b[39mexcept\u001b[39;00m errors\u001b[39m.\u001b[39mUnsupportedError \u001b[39mas\u001b[39;00m e:\n\u001b[0;32m    470\u001b[0m     \u001b[39m#  Something unsupported is present in the user code, add help info\u001b[39;00m\n\u001b[0;32m    471\u001b[0m     error_rewrite(e, \u001b[39m'\u001b[39m\u001b[39munsupported_error\u001b[39m\u001b[39m'\u001b[39m)\n",
      "File \u001b[1;32mc:\\Users\\ADMIN\\AppData\\Local\\Programs\\Python\\Python310\\lib\\site-packages\\numba\\core\\dispatcher.py:409\u001b[0m, in \u001b[0;36m_DispatcherBase._compile_for_args.<locals>.error_rewrite\u001b[1;34m(e, issue_type)\u001b[0m\n\u001b[0;32m    407\u001b[0m     \u001b[39mraise\u001b[39;00m e\n\u001b[0;32m    408\u001b[0m \u001b[39melse\u001b[39;00m:\n\u001b[1;32m--> 409\u001b[0m     \u001b[39mraise\u001b[39;00m e\u001b[39m.\u001b[39mwith_traceback(\u001b[39mNone\u001b[39;00m)\n",
      "\u001b[1;31mTypingError\u001b[0m: Failed in nopython mode pipeline (step: nopython frontend)\nInternal error at <numba.core.typeinfer.CallConstraint object at 0x0000023998316DD0>.\n\u001b[1m\u001b[1m\u001b[1mcan't compile getActionSize: import of module _env failed\u001b[0m\n\u001b[0m\u001b[1mDuring: resolving callee type: type(CPUDispatcher(<function getActionSize at 0x00000239A59E81F0>))\u001b[0m\n\u001b[0m\u001b[1mDuring: typing of call at A:\\ENV\\Base/Durak/_env.py (87)\n\u001b[0m\nEnable logging at debug level for details.\n\u001b[1m\nFile \"Base\\Durak\\_env.py\", line 87:\u001b[0m\n\u001b[1mdef getValidActions(state):\n\u001b[1m    list_action = np.zeros(getActionSize())\n\u001b[0m    \u001b[1m^\u001b[0m\u001b[0m\n"
     ]
    }
   ],
   "source": [
    "env.render(Agent=\"human\", per_data=[0], level=0, max_temp_frame=100)"
   ]
  },
  {
   "cell_type": "code",
   "execution_count": 1,
   "metadata": {},
   "outputs": [
    {
     "name": "stdout",
     "output_type": "stream",
     "text": [
      "A:\\ENV\n",
      "check [7 2 1]\n",
      "check [7 1 0]\n",
      "check [8 5 0]\n",
      "check [3 5 7]\n",
      "check [5 0 5]\n",
      "check [5 0 2]\n",
      "check [1 5 0]\n",
      "check [0 0 0]\n",
      "check [0 0 2]\n",
      "check [-1 -1 -1]\n",
      "check [-1 -1 -1]\n",
      "check [-1 -1 -1]\n",
      "check [-1 -1 -1]\n",
      "check [-1 -1 -1]\n",
      "check [-1 -1 -1]\n",
      "check [-1 -1 -1]\n",
      "check [-1 -1 -1]\n",
      "check [-1 -1 -1]\n",
      "check [-1 -1 -1]\n"
     ]
    },
    {
     "ename": "Exception",
     "evalue": "toang",
     "output_type": "error",
     "traceback": [
      "\u001b[1;31m---------------------------------------------------------------------------\u001b[0m",
      "\u001b[1;31mException\u001b[0m                                 Traceback (most recent call last)",
      "Cell \u001b[1;32mIn[1], line 7\u001b[0m\n\u001b[0;32m      4\u001b[0m \u001b[39mfrom\u001b[39;00m \u001b[39mBase\u001b[39;00m\u001b[39m.\u001b[39;00m\u001b[39mTicketToRide\u001b[39;00m\u001b[39m.\u001b[39;00m\u001b[39m_env\u001b[39;00m \u001b[39mimport\u001b[39;00m bot_lv0\n\u001b[0;32m      5\u001b[0m env \u001b[39m=\u001b[39m make(\u001b[39m\"\u001b[39m\u001b[39mTicketToRide\u001b[39m\u001b[39m\"\u001b[39m)\n\u001b[1;32m----> 7\u001b[0m env\u001b[39m.\u001b[39;49mnumba_main_2(bot_lv0, \u001b[39m10\u001b[39;49m, [\u001b[39m0\u001b[39;49m], \u001b[39m1\u001b[39;49m)\n",
      "File \u001b[1;32mA:\\ENV\\Base\\TicketToRide\\_env.py:838\u001b[0m, in \u001b[0;36mnumba_main_2\u001b[1;34m(p0, num_game, per_player, level, *args)\u001b[0m\n\u001b[0;32m    835\u001b[0m load_agent(level, \u001b[39m*\u001b[39margs)\n\u001b[0;32m    837\u001b[0m \u001b[39mif\u001b[39;00m check_njit:\n\u001b[1;32m--> 838\u001b[0m     \u001b[39mreturn\u001b[39;00m n_games_numba(p0, num_game, per_player, list_other,\n\u001b[0;32m    839\u001b[0m                             _list_per_level_[\u001b[39m0\u001b[39;49m], _list_per_level_[\u001b[39m1\u001b[39;49m], _list_per_level_[\u001b[39m2\u001b[39;49m], _list_per_level_[\u001b[39m3\u001b[39;49m],\n\u001b[0;32m    840\u001b[0m                             _list_bot_level_[\u001b[39m0\u001b[39;49m], _list_bot_level_[\u001b[39m1\u001b[39;49m], _list_bot_level_[\u001b[39m2\u001b[39;49m], _list_bot_level_[\u001b[39m3\u001b[39;49m])\n\u001b[0;32m    841\u001b[0m \u001b[39melse\u001b[39;00m:\n\u001b[0;32m    842\u001b[0m     \u001b[39mreturn\u001b[39;00m n_games_normal(p0, num_game, per_player, list_other,\n\u001b[0;32m    843\u001b[0m                             _list_per_level_[\u001b[39m0\u001b[39m], _list_per_level_[\u001b[39m1\u001b[39m], _list_per_level_[\u001b[39m2\u001b[39m], _list_per_level_[\u001b[39m3\u001b[39m],\n\u001b[0;32m    844\u001b[0m                             _list_bot_level_[\u001b[39m0\u001b[39m], _list_bot_level_[\u001b[39m1\u001b[39m], _list_bot_level_[\u001b[39m2\u001b[39m], _list_bot_level_[\u001b[39m3\u001b[39m])\n",
      "File \u001b[1;32mA:\\ENV\\Base\\TicketToRide\\_env.py:661\u001b[0m, in \u001b[0;36mone_game_numba\u001b[1;34m()\u001b[0m\n\u001b[0;32m    659\u001b[0m     count_check \u001b[39m+\u001b[39m\u001b[39m=\u001b[39m \u001b[39m1\u001b[39m\n\u001b[0;32m    660\u001b[0m     \u001b[39mif\u001b[39;00m count_check \u001b[39m==\u001b[39m \u001b[39m50\u001b[39m:\n\u001b[1;32m--> 661\u001b[0m         \u001b[39mraise\u001b[39;00m \u001b[39mException\u001b[39;00m(\u001b[39m'\u001b[39m\u001b[39mtoang\u001b[39m\u001b[39m'\u001b[39m)\n\u001b[0;32m    662\u001b[0m env_state \u001b[39m=\u001b[39m stepEnv(env_state, action)\n\u001b[0;32m    663\u001b[0m count_turn \u001b[39m+\u001b[39m\u001b[39m=\u001b[39m \u001b[39m1\u001b[39m\n",
      "\u001b[1;31mException\u001b[0m: toang"
     ]
    }
   ],
   "source": [
    "%cd A:/ENV\n",
    "\n",
    "from setup import make\n",
    "from Base.TicketToRide._env import bot_lv0\n",
    "env = make(\"TicketToRide\")\n",
    "\n",
    "env.numba_main_2(bot_lv0, 10, [0], 1)"
   ]
  },
  {
   "cell_type": "code",
   "execution_count": null,
   "metadata": {},
   "outputs": [],
   "source": [
    "env.render(Agent=bot_lv0, per_data=[0], level=0, max_temp_frame=100)"
   ]
  },
  {
   "cell_type": "code",
   "execution_count": null,
   "metadata": {},
   "outputs": [],
   "source": [
    "import time\n",
    "for i in range(10):\n",
    "    a = time.time()\n",
    "    env.render(Agent=bot_lv0, per_data=[0], level=1, max_temp_frame=100)\n",
    "    b = time.time()\n",
    "    print(int(b-a), i)\n",
    "    clear_output(wait=True)"
   ]
  },
  {
   "cell_type": "code",
   "execution_count": 5,
   "metadata": {},
   "outputs": [
    {
     "data": {
      "text/plain": [
       "array([], dtype=float64)"
      ]
     },
     "execution_count": 5,
     "metadata": {},
     "output_type": "execute_result"
    }
   ],
   "source": [
    "import numpy as np\n",
    "a = np.zeros(0)\n",
    "a"
   ]
  },
  {
   "cell_type": "code",
   "execution_count": null,
   "metadata": {},
   "outputs": [],
   "source": []
  }
 ],
 "metadata": {
  "kernelspec": {
   "display_name": ".venv",
   "language": "python",
   "name": "python3"
  },
  "language_info": {
   "codemirror_mode": {
    "name": "ipython",
    "version": 3
   },
   "file_extension": ".py",
   "mimetype": "text/x-python",
   "name": "python",
   "nbconvert_exporter": "python",
   "pygments_lexer": "ipython3",
   "version": "3.10.0"
  },
  "orig_nbformat": 4
 },
 "nbformat": 4,
 "nbformat_minor": 2
}
